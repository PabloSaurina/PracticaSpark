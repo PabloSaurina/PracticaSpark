{
 "cells": [
  {
   "cell_type": "code",
   "execution_count": 1,
   "metadata": {},
   "outputs": [],
   "source": [
    "from pyspark.sql import SparkSession\n",
    "from datetime import datetime\n",
    "import json\n",
    "from pyspark.ml.regression import LinearRegression\n",
    "from pyspark.ml.feature import VectorAssembler\n",
    "from pyspark.sql.functions import *\n",
    "import matplotlib.pyplot as plt"
   ]
  },
  {
   "cell_type": "code",
   "execution_count": 2,
   "metadata": {},
   "outputs": [],
   "source": [
    "spark = SparkSession.builder.getOrCreate()\n",
    "sc = spark.sparkContext"
   ]
  },
  {
   "cell_type": "code",
   "execution_count": 3,
   "metadata": {},
   "outputs": [
    {
     "name": "stdout",
     "output_type": "stream",
     "text": [
      "+--------------------+--------+-----------+--------------+-------------+----------------+-----------+--------------------+--------------------+---------+--------+\n",
      "|                 _id|ageRange|idplug_base|idplug_station|idunplug_base|idunplug_station|travel_time|     unplug_hourTime|       user_day_code|user_type|zip_code|\n",
      "+--------------------+--------+-----------+--------------+-------------+----------------+-----------+--------------------+--------------------+---------+--------+\n",
      "|[5cf83b752f3843a0...|       0|         21|            66|            8|              90|        219|[2019-06-01T00:00...|e4d55deb9ac172a8d...|        1|        |\n",
      "|[5cf83b762f3843a0...|       4|         19|           136|           19|              71|        359|[2019-06-01T00:00...|8a0c4123e924a50a9...|        1|   28039|\n",
      "|[5cf83b762f3843a0...|       4|         17|            38|            7|              39|        375|[2019-06-01T00:00...|a6a9c1f74a6849600...|        1|   28013|\n",
      "|[5cf83b762f3843a0...|       5|          4|            90|           21|              66|        264|[2019-06-01T00:00...|5706c0bd494acc022...|        1|   28009|\n",
      "|[5cf83b762f3843a0...|       4|          3|           166|           13|             152|        367|[2019-06-01T00:00...|eb1b6d32bd4add5d5...|        1|   28006|\n",
      "+--------------------+--------+-----------+--------------+-------------+----------------+-----------+--------------------+--------------------+---------+--------+\n",
      "only showing top 5 rows\n",
      "\n"
     ]
    }
   ],
   "source": [
    "df = spark.read.json('sample_10e3.json')\n",
    "df.show(5)"
   ]
  },
  {
   "cell_type": "code",
   "execution_count": 4,
   "metadata": {},
   "outputs": [],
   "source": [
    "def get_data(line):\n",
    "    data = json.loads(line)\n",
    "    data[\"_id\"] = data[\"_id\"][\"$oid\"]\n",
    "    data['unplug_hourTime'] = datetime.strptime(data['unplug_hourTime']['$date'], \"%Y-%m-%dT%H:%M:%S.%f%z\")\n",
    "    return data"
   ]
  },
  {
   "cell_type": "code",
   "execution_count": 5,
   "metadata": {},
   "outputs": [
    {
     "name": "stderr",
     "output_type": "stream",
     "text": [
      "/usr/local/lib/python3.8/dist-packages/pyspark/sql/session.py:401: UserWarning: Using RDD of dict to inferSchema is deprecated. Use pyspark.sql.Row instead\n",
      "  warnings.warn(\"Using RDD of dict to inferSchema is deprecated. \"\n"
     ]
    }
   ],
   "source": [
    "rdd = sc.textFile('sample_10e2.json').map(get_data)\n",
    "df = spark.createDataFrame(rdd)"
   ]
  },
  {
   "cell_type": "code",
   "execution_count": 6,
   "metadata": {},
   "outputs": [
    {
     "name": "stdout",
     "output_type": "stream",
     "text": [
      "root\n",
      " |-- _id: string (nullable = true)\n",
      " |-- ageRange: long (nullable = true)\n",
      " |-- idplug_base: long (nullable = true)\n",
      " |-- idplug_station: long (nullable = true)\n",
      " |-- idunplug_base: long (nullable = true)\n",
      " |-- idunplug_station: long (nullable = true)\n",
      " |-- travel_time: long (nullable = true)\n",
      " |-- unplug_hourTime: timestamp (nullable = true)\n",
      " |-- user_day_code: string (nullable = true)\n",
      " |-- user_type: long (nullable = true)\n",
      " |-- zip_code: string (nullable = true)\n",
      "\n"
     ]
    }
   ],
   "source": [
    "df.printSchema()"
   ]
  },
  {
   "cell_type": "code",
   "execution_count": 7,
   "metadata": {},
   "outputs": [
    {
     "name": "stdout",
     "output_type": "stream",
     "text": [
      "root\n",
      " |-- _id: string (nullable = true)\n",
      " |-- ageRange: long (nullable = true)\n",
      " |-- idplug_base: long (nullable = true)\n",
      " |-- idplug_station: long (nullable = true)\n",
      " |-- idunplug_base: long (nullable = true)\n",
      " |-- idunplug_station: long (nullable = true)\n",
      " |-- travel_time: long (nullable = true)\n",
      " |-- unplug_hourTime: timestamp (nullable = true)\n",
      " |-- user_day_code: string (nullable = true)\n",
      " |-- user_type: long (nullable = true)\n",
      " |-- zip_code: string (nullable = true)\n",
      "\n",
      "root\n",
      " |-- _id: string (nullable = true)\n",
      " |-- ageRange: long (nullable = true)\n",
      " |-- idplug_base: long (nullable = true)\n",
      " |-- idplug_station: long (nullable = true)\n",
      " |-- idunplug_base: long (nullable = true)\n",
      " |-- idunplug_station: long (nullable = true)\n",
      " |-- travel_time: long (nullable = true)\n",
      " |-- unplug_hourTime: timestamp (nullable = true)\n",
      " |-- user_day_code: string (nullable = true)\n",
      " |-- user_type: long (nullable = true)\n",
      " |-- zip_code: string (nullable = true)\n",
      "\n"
     ]
    }
   ],
   "source": [
    "rdd = sc.textFile('sample_10e3.json').map(get_data)\n",
    "df1 = spark.createDataFrame(rdd)\n",
    "rdd = sc.textFile('sample_10e4.json').map(get_data)\n",
    "df2 = spark.createDataFrame(rdd)\n",
    "df1.printSchema()\n",
    "df2.printSchema()"
   ]
  },
  {
   "cell_type": "code",
   "execution_count": 8,
   "metadata": {},
   "outputs": [
    {
     "name": "stdout",
     "output_type": "stream",
     "text": [
      "+--------------------+--------+-----------+--------------+-------------+----------------+-----------+-------------------+--------------------+---------+--------+\n",
      "|                 _id|ageRange|idplug_base|idplug_station|idunplug_base|idunplug_station|travel_time|    unplug_hourTime|       user_day_code|user_type|zip_code|\n",
      "+--------------------+--------+-----------+--------------+-------------+----------------+-----------+-------------------+--------------------+---------+--------+\n",
      "|5cf83b752f3843a01...|       0|         21|            66|            8|              90|        219|2019-06-01 00:00:00|e4d55deb9ac172a8d...|        1|        |\n",
      "|5cf83b762f3843a01...|       4|         19|           136|           19|              71|        359|2019-06-01 00:00:00|8a0c4123e924a50a9...|        1|   28039|\n",
      "|5cf83b762f3843a01...|       4|         17|            38|            7|              39|        375|2019-06-01 00:00:00|a6a9c1f74a6849600...|        1|   28013|\n",
      "|5cf83b762f3843a01...|       5|          4|            90|           21|              66|        264|2019-06-01 00:00:00|5706c0bd494acc022...|        1|   28009|\n",
      "|5cf83b762f3843a01...|       4|          3|           166|           13|             152|        367|2019-06-01 00:00:00|eb1b6d32bd4add5d5...|        1|   28006|\n",
      "+--------------------+--------+-----------+--------------+-------------+----------------+-----------+-------------------+--------------------+---------+--------+\n",
      "only showing top 5 rows\n",
      "\n",
      "+--------------------+--------+-----------+--------------+-------------+----------------+-----------+-------------------+--------------------+---------+--------+\n",
      "|                 _id|ageRange|idplug_base|idplug_station|idunplug_base|idunplug_station|travel_time|    unplug_hourTime|       user_day_code|user_type|zip_code|\n",
      "+--------------------+--------+-----------+--------------+-------------+----------------+-----------+-------------------+--------------------+---------+--------+\n",
      "|59477d642f38430c5...|       4|          6|            58|            2|             111|        390|2017-06-12 16:00:00|f921b9c3fcee0848e...|        1|   28004|\n",
      "|5b1c52162f3843201...|       4|         26|            90|           15|              40|        692|2018-06-05 19:00:00|db2ea5a180bddd848...|        1|   28013|\n",
      "|59e46b0c2f3843204...|       4|         24|           172|           22|             136|       2055|2017-10-10 09:00:00|2205231ee045b927f...|        1|   28045|\n",
      "|59adcf3b2f38432f9...|       5|         10|           109|           22|              51|        848|2017-08-31 07:00:00|48a8905d6e28ad0f4...|        1|   28005|\n",
      "|595ccc722f38430f0...|       4|          1|           101|            6|              45|        646|2017-06-28 08:00:00|3848bb88e9c394913...|        1|   28004|\n",
      "+--------------------+--------+-----------+--------------+-------------+----------------+-----------+-------------------+--------------------+---------+--------+\n",
      "only showing top 5 rows\n",
      "\n"
     ]
    }
   ],
   "source": [
    "df1.show(5)\n",
    "df2.show(5)"
   ]
  },
  {
   "cell_type": "code",
   "execution_count": 9,
   "metadata": {},
   "outputs": [
    {
     "name": "stdout",
     "output_type": "stream",
     "text": [
      "100\n",
      "1000\n",
      "10000\n"
     ]
    }
   ],
   "source": [
    "print(df.count())\n",
    "print(df1.count())\n",
    "print(df2.count())"
   ]
  },
  {
   "cell_type": "code",
   "execution_count": 10,
   "metadata": {},
   "outputs": [
    {
     "data": {
      "text/plain": [
       "11100"
      ]
     },
     "execution_count": 10,
     "metadata": {},
     "output_type": "execute_result"
    }
   ],
   "source": [
    "df1 = df1.unionAll(df2)\n",
    "df = df.unionAll(df1)\n",
    "df.count()"
   ]
  },
  {
   "cell_type": "code",
   "execution_count": 11,
   "metadata": {},
   "outputs": [
    {
     "name": "stdout",
     "output_type": "stream",
     "text": [
      "root\n",
      " |-- _id: string (nullable = true)\n",
      " |-- ageRange: long (nullable = true)\n",
      " |-- idplug_base: long (nullable = true)\n",
      " |-- idplug_station: long (nullable = true)\n",
      " |-- idunplug_base: long (nullable = true)\n",
      " |-- idunplug_station: long (nullable = true)\n",
      " |-- travel_time: long (nullable = true)\n",
      " |-- unplug_hourTime: timestamp (nullable = true)\n",
      " |-- user_day_code: string (nullable = true)\n",
      " |-- user_type: long (nullable = true)\n",
      " |-- zip_code: string (nullable = true)\n",
      "\n"
     ]
    }
   ],
   "source": [
    "df.printSchema()"
   ]
  },
  {
   "cell_type": "code",
   "execution_count": 12,
   "metadata": {},
   "outputs": [
    {
     "name": "stdout",
     "output_type": "stream",
     "text": [
      "+--------------------+--------+-----------+--------------+-------------+----------------+-----------+-------------------+--------------------+---------+--------+\n",
      "|                 _id|ageRange|idplug_base|idplug_station|idunplug_base|idunplug_station|travel_time|    unplug_hourTime|       user_day_code|user_type|zip_code|\n",
      "+--------------------+--------+-----------+--------------+-------------+----------------+-----------+-------------------+--------------------+---------+--------+\n",
      "|5cf83b752f3843a01...|       0|         21|            66|            8|              90|        219|2019-06-01 00:00:00|e4d55deb9ac172a8d...|        1|        |\n",
      "|5cf83b762f3843a01...|       4|         19|           136|           19|              71|        359|2019-06-01 00:00:00|8a0c4123e924a50a9...|        1|   28039|\n",
      "|5cf83b762f3843a01...|       4|         17|            38|            7|              39|        375|2019-06-01 00:00:00|a6a9c1f74a6849600...|        1|   28013|\n",
      "|5cf83b762f3843a01...|       5|          4|            90|           21|              66|        264|2019-06-01 00:00:00|5706c0bd494acc022...|        1|   28009|\n",
      "|5cf83b762f3843a01...|       4|          3|           166|           13|             152|        367|2019-06-01 00:00:00|eb1b6d32bd4add5d5...|        1|   28006|\n",
      "+--------------------+--------+-----------+--------------+-------------+----------------+-----------+-------------------+--------------------+---------+--------+\n",
      "only showing top 5 rows\n",
      "\n"
     ]
    }
   ],
   "source": [
    "df.show(5)"
   ]
  },
  {
   "cell_type": "code",
   "execution_count": 13,
   "metadata": {},
   "outputs": [
    {
     "name": "stdout",
     "output_type": "stream",
     "text": [
      "+--------+-----------+--------------+-------------+----------------+-----------+-------------------+--------------------+---------+--------+\n",
      "|ageRange|idplug_base|idplug_station|idunplug_base|idunplug_station|travel_time|    unplug_hourTime|       user_day_code|user_type|zip_code|\n",
      "+--------+-----------+--------------+-------------+----------------+-----------+-------------------+--------------------+---------+--------+\n",
      "|       0|         21|            66|            8|              90|        219|2019-06-01 00:00:00|e4d55deb9ac172a8d...|        1|        |\n",
      "|       4|         19|           136|           19|              71|        359|2019-06-01 00:00:00|8a0c4123e924a50a9...|        1|   28039|\n",
      "|       4|         17|            38|            7|              39|        375|2019-06-01 00:00:00|a6a9c1f74a6849600...|        1|   28013|\n",
      "|       5|          4|            90|           21|              66|        264|2019-06-01 00:00:00|5706c0bd494acc022...|        1|   28009|\n",
      "|       4|          3|           166|           13|             152|        367|2019-06-01 00:00:00|eb1b6d32bd4add5d5...|        1|   28006|\n",
      "+--------+-----------+--------------+-------------+----------------+-----------+-------------------+--------------------+---------+--------+\n",
      "only showing top 5 rows\n",
      "\n"
     ]
    }
   ],
   "source": [
    "df = df.drop('_id')\n",
    "df.show(5)"
   ]
  },
  {
   "cell_type": "code",
   "execution_count": 14,
   "metadata": {},
   "outputs": [
    {
     "name": "stdout",
     "output_type": "stream",
     "text": [
      "+--------+-----------+--------------+-------------+----------------+-----------+-------------------+---------+--------+\n",
      "|ageRange|idplug_base|idplug_station|idunplug_base|idunplug_station|travel_time|    unplug_hourTime|user_type|zip_code|\n",
      "+--------+-----------+--------------+-------------+----------------+-----------+-------------------+---------+--------+\n",
      "|       0|         21|            66|            8|              90|        219|2019-06-01 00:00:00|        1|        |\n",
      "|       4|         19|           136|           19|              71|        359|2019-06-01 00:00:00|        1|   28039|\n",
      "|       4|         17|            38|            7|              39|        375|2019-06-01 00:00:00|        1|   28013|\n",
      "|       5|          4|            90|           21|              66|        264|2019-06-01 00:00:00|        1|   28009|\n",
      "|       4|          3|           166|           13|             152|        367|2019-06-01 00:00:00|        1|   28006|\n",
      "+--------+-----------+--------------+-------------+----------------+-----------+-------------------+---------+--------+\n",
      "only showing top 5 rows\n",
      "\n"
     ]
    }
   ],
   "source": [
    "df = df.drop('user_day_code')\n",
    "df.show(5)"
   ]
  },
  {
   "cell_type": "code",
   "execution_count": 15,
   "metadata": {},
   "outputs": [
    {
     "name": "stdout",
     "output_type": "stream",
     "text": [
      "+--------+\n",
      "|ageRange|\n",
      "+--------+\n",
      "|       0|\n",
      "|       4|\n",
      "|       4|\n",
      "|       5|\n",
      "|       4|\n",
      "+--------+\n",
      "only showing top 5 rows\n",
      "\n"
     ]
    }
   ],
   "source": [
    "df.select('ageRange').show(5)"
   ]
  },
  {
   "cell_type": "code",
   "execution_count": 16,
   "metadata": {},
   "outputs": [
    {
     "name": "stdout",
     "output_type": "stream",
     "text": [
      "+---------+-----+\n",
      "|user_type|count|\n",
      "+---------+-----+\n",
      "|        0|  201|\n",
      "|        1| 9809|\n",
      "|        3|  961|\n",
      "|        2|  129|\n",
      "+---------+-----+\n",
      "\n"
     ]
    }
   ],
   "source": [
    "df.groupBy('user_type').count().show()"
   ]
  },
  {
   "cell_type": "code",
   "execution_count": 17,
   "metadata": {},
   "outputs": [
    {
     "name": "stdout",
     "output_type": "stream",
     "text": [
      "+-------------------+\n",
      "|    unplug_hourTime|\n",
      "+-------------------+\n",
      "|2019-06-01 00:00:00|\n",
      "|2019-06-01 00:00:00|\n",
      "|2019-06-01 00:00:00|\n",
      "|2019-06-01 00:00:00|\n",
      "|2019-06-01 00:00:00|\n",
      "|2019-06-01 00:00:00|\n",
      "|2019-06-01 00:00:00|\n",
      "|2019-06-01 00:00:00|\n",
      "|2019-06-01 00:00:00|\n",
      "|2019-06-01 00:00:00|\n",
      "+-------------------+\n",
      "only showing top 10 rows\n",
      "\n"
     ]
    }
   ],
   "source": [
    "df.select('unplug_hourTime').show(10)"
   ]
  },
  {
   "cell_type": "code",
   "execution_count": 18,
   "metadata": {},
   "outputs": [
    {
     "name": "stdout",
     "output_type": "stream",
     "text": [
      "+-------------------+-----+\n",
      "|    unplug_hourTime|count|\n",
      "+-------------------+-----+\n",
      "|2018-04-17 11:00:00|    1|\n",
      "|2017-05-09 16:00:00|    2|\n",
      "|2017-07-14 23:00:00|    1|\n",
      "|2018-01-26 14:00:00|    1|\n",
      "|2017-05-06 17:00:00|    3|\n",
      "|2018-05-20 13:00:00|    1|\n",
      "|2018-03-21 14:00:00|    3|\n",
      "|2017-10-28 16:00:00|    2|\n",
      "|2018-06-15 12:00:00|    1|\n",
      "|2017-07-21 07:00:00|    3|\n",
      "|2017-06-15 08:00:00|    2|\n",
      "|2017-11-09 15:00:00|    2|\n",
      "|2017-07-21 12:00:00|    2|\n",
      "|2017-12-22 07:00:00|    2|\n",
      "|2018-04-12 17:00:00|    1|\n",
      "|2017-08-22 17:00:00|    1|\n",
      "|2017-08-10 13:00:00|    2|\n",
      "|2017-06-21 00:00:00|    1|\n",
      "|2017-06-13 12:00:00|    1|\n",
      "|2018-01-15 22:00:00|    1|\n",
      "+-------------------+-----+\n",
      "only showing top 20 rows\n",
      "\n"
     ]
    }
   ],
   "source": [
    "df.groupBy('unplug_hourTime').count().show()"
   ]
  },
  {
   "cell_type": "code",
   "execution_count": 19,
   "metadata": {},
   "outputs": [
    {
     "name": "stdout",
     "output_type": "stream",
     "text": [
      "+--------+-----+\n",
      "|zip_code|count|\n",
      "+--------+-----+\n",
      "|   13610|    1|\n",
      "|   28039|   89|\n",
      "|   28500|    2|\n",
      "|   13170|    2|\n",
      "|   28707|    1|\n",
      "+--------+-----+\n",
      "only showing top 5 rows\n",
      "\n"
     ]
    }
   ],
   "source": [
    "df.groupBy('zip_code').count().show(5)"
   ]
  },
  {
   "cell_type": "code",
   "execution_count": 20,
   "metadata": {},
   "outputs": [
    {
     "data": {
      "text/plain": [
       "261"
      ]
     },
     "execution_count": 20,
     "metadata": {},
     "output_type": "execute_result"
    }
   ],
   "source": [
    "df.select('zip_code').distinct().count()"
   ]
  },
  {
   "cell_type": "code",
   "execution_count": 21,
   "metadata": {},
   "outputs": [
    {
     "name": "stdout",
     "output_type": "stream",
     "text": [
      "+--------+-----------+--------------+-------------+----------------+-----------+-------------------+---------+\n",
      "|ageRange|idplug_base|idplug_station|idunplug_base|idunplug_station|travel_time|    unplug_hourTime|user_type|\n",
      "+--------+-----------+--------------+-------------+----------------+-----------+-------------------+---------+\n",
      "|       0|         21|            66|            8|              90|        219|2019-06-01 00:00:00|        1|\n",
      "|       4|         19|           136|           19|              71|        359|2019-06-01 00:00:00|        1|\n",
      "|       4|         17|            38|            7|              39|        375|2019-06-01 00:00:00|        1|\n",
      "|       5|          4|            90|           21|              66|        264|2019-06-01 00:00:00|        1|\n",
      "|       4|          3|           166|           13|             152|        367|2019-06-01 00:00:00|        1|\n",
      "+--------+-----------+--------------+-------------+----------------+-----------+-------------------+---------+\n",
      "only showing top 5 rows\n",
      "\n"
     ]
    }
   ],
   "source": [
    "df = df.drop('zip_code')\n",
    "df.show(5)"
   ]
  },
  {
   "cell_type": "code",
   "execution_count": 22,
   "metadata": {},
   "outputs": [
    {
     "name": "stdout",
     "output_type": "stream",
     "text": [
      "+--------+--------------+----------------+-----------+-------------------+---------+\n",
      "|ageRange|idplug_station|idunplug_station|travel_time|    unplug_hourTime|user_type|\n",
      "+--------+--------------+----------------+-----------+-------------------+---------+\n",
      "|       0|            66|              90|        219|2019-06-01 00:00:00|        1|\n",
      "|       4|           136|              71|        359|2019-06-01 00:00:00|        1|\n",
      "|       4|            38|              39|        375|2019-06-01 00:00:00|        1|\n",
      "|       5|            90|              66|        264|2019-06-01 00:00:00|        1|\n",
      "|       4|           166|             152|        367|2019-06-01 00:00:00|        1|\n",
      "+--------+--------------+----------------+-----------+-------------------+---------+\n",
      "only showing top 5 rows\n",
      "\n"
     ]
    }
   ],
   "source": [
    "df = df.drop('idplug_base','idunplug_base')\n",
    "df.show(5)"
   ]
  },
  {
   "cell_type": "code",
   "execution_count": 23,
   "metadata": {},
   "outputs": [
    {
     "data": {
      "text/plain": [
       "['ageRange',\n",
       " 'idplug_station',\n",
       " 'idunplug_station',\n",
       " 'travel_time',\n",
       " 'unplug_hourTime',\n",
       " 'user_type']"
      ]
     },
     "execution_count": 23,
     "metadata": {},
     "output_type": "execute_result"
    }
   ],
   "source": [
    "df.columns"
   ]
  },
  {
   "cell_type": "code",
   "execution_count": 24,
   "metadata": {},
   "outputs": [
    {
     "data": {
      "text/plain": [
       "2021"
      ]
     },
     "execution_count": 24,
     "metadata": {},
     "output_type": "execute_result"
    }
   ],
   "source": [
    "date = '2021-05-21 11:22:03'\n",
    "date = datetime.strptime(date,\"%Y-%m-%d %H:%M:%S\")\n",
    "date.year"
   ]
  },
  {
   "cell_type": "code",
   "execution_count": 25,
   "metadata": {},
   "outputs": [
    {
     "data": {
      "text/plain": [
       "2019"
      ]
     },
     "execution_count": 25,
     "metadata": {},
     "output_type": "execute_result"
    }
   ],
   "source": [
    "df.head(91)[-1][4].year"
   ]
  },
  {
   "cell_type": "code",
   "execution_count": 26,
   "metadata": {},
   "outputs": [
    {
     "name": "stdout",
     "output_type": "stream",
     "text": [
      "+--------+--------------+----------------+-----------+-------------------+---------+----+-----+---+----+\n",
      "|ageRange|idplug_station|idunplug_station|travel_time|    unplug_hourTime|user_type|year|month|day|hour|\n",
      "+--------+--------------+----------------+-----------+-------------------+---------+----+-----+---+----+\n",
      "|       0|            66|              90|        219|2019-06-01 00:00:00|        1|2019|    6|  1|   0|\n",
      "|       4|           136|              71|        359|2019-06-01 00:00:00|        1|2019|    6|  1|   0|\n",
      "|       4|            38|              39|        375|2019-06-01 00:00:00|        1|2019|    6|  1|   0|\n",
      "|       5|            90|              66|        264|2019-06-01 00:00:00|        1|2019|    6|  1|   0|\n",
      "|       4|           166|             152|        367|2019-06-01 00:00:00|        1|2019|    6|  1|   0|\n",
      "+--------+--------------+----------------+-----------+-------------------+---------+----+-----+---+----+\n",
      "only showing top 5 rows\n",
      "\n"
     ]
    }
   ],
   "source": [
    "df = df.withColumn('year',year(df['unplug_hourTime']))\n",
    "df = df.withColumn('month',month(df['unplug_hourTime']))\n",
    "df = df.withColumn('day',dayofmonth(df['unplug_hourTime']))\n",
    "df = df.withColumn('hour',hour(df['unplug_hourTime']))\n",
    "df.show(5)"
   ]
  },
  {
   "cell_type": "code",
   "execution_count": 27,
   "metadata": {},
   "outputs": [
    {
     "data": {
      "text/plain": [
       "175"
      ]
     },
     "execution_count": 27,
     "metadata": {},
     "output_type": "execute_result"
    }
   ],
   "source": [
    "df.select('idplug_station').distinct().count()"
   ]
  },
  {
   "cell_type": "code",
   "execution_count": 28,
   "metadata": {},
   "outputs": [
    {
     "data": {
      "text/plain": [
       "175"
      ]
     },
     "execution_count": 28,
     "metadata": {},
     "output_type": "execute_result"
    }
   ],
   "source": [
    "df.select('idunplug_station').distinct().count()"
   ]
  },
  {
   "cell_type": "code",
   "execution_count": 29,
   "metadata": {},
   "outputs": [
    {
     "name": "stdout",
     "output_type": "stream",
     "text": [
      "+--------+----+-----+---+----+-----------+\n",
      "|ageRange|year|month|day|hour|travel_time|\n",
      "+--------+----+-----+---+----+-----------+\n",
      "|       0|2019|    6|  1|   0|        219|\n",
      "|       4|2019|    6|  1|   0|        359|\n",
      "|       4|2019|    6|  1|   0|        375|\n",
      "|       5|2019|    6|  1|   0|        264|\n",
      "|       4|2019|    6|  1|   0|        367|\n",
      "+--------+----+-----+---+----+-----------+\n",
      "only showing top 5 rows\n",
      "\n"
     ]
    }
   ],
   "source": [
    "df = df.select('ageRange','year','month','day','hour','travel_time')\n",
    "df.show(5)"
   ]
  },
  {
   "cell_type": "code",
   "execution_count": 30,
   "metadata": {},
   "outputs": [
    {
     "data": {
      "text/plain": [
       "7"
      ]
     },
     "execution_count": 30,
     "metadata": {},
     "output_type": "execute_result"
    }
   ],
   "source": [
    "df.select('ageRange').distinct().count()"
   ]
  },
  {
   "cell_type": "code",
   "execution_count": 31,
   "metadata": {
    "scrolled": true
   },
   "outputs": [
    {
     "name": "stdout",
     "output_type": "stream",
     "text": [
      "+----+-----+---+----+-----------+-------+-------+-------+-------+-------+-------+-------+\n",
      "|year|month|day|hour|travel_time|agrng_0|agrng_1|agrng_2|agrng_3|agrng_4|agrng_5|agrng_6|\n",
      "+----+-----+---+----+-----------+-------+-------+-------+-------+-------+-------+-------+\n",
      "|2019|    6|  1|   0|        219|      1|      0|      0|      0|      0|      0|      0|\n",
      "|2019|    6|  1|   0|        359|      0|      0|      0|      0|      1|      0|      0|\n",
      "|2019|    6|  1|   0|        375|      0|      0|      0|      0|      1|      0|      0|\n",
      "|2019|    6|  1|   0|        264|      0|      0|      0|      0|      0|      1|      0|\n",
      "|2019|    6|  1|   0|        367|      0|      0|      0|      0|      1|      0|      0|\n",
      "+----+-----+---+----+-----------+-------+-------+-------+-------+-------+-------+-------+\n",
      "only showing top 5 rows\n",
      "\n"
     ]
    }
   ],
   "source": [
    "df = df.withColumn('agrng_0',when(df['ageRange'] == 0, 1).otherwise(0))\n",
    "df = df.withColumn('agrng_1',when(df['ageRange'] == 1, 1).otherwise(0))\n",
    "df = df.withColumn('agrng_2',when(df['ageRange'] == 2, 1).otherwise(0))\n",
    "df = df.withColumn('agrng_3',when(df['ageRange'] == 3, 1).otherwise(0))\n",
    "df = df.withColumn('agrng_4',when(df['ageRange'] == 4, 1).otherwise(0))\n",
    "df = df.withColumn('agrng_5',when(df['ageRange'] == 5, 1).otherwise(0))\n",
    "df = df.withColumn('agrng_6',when(df['ageRange'] == 6, 1).otherwise(0))\n",
    "df = df.drop('ageRange')\n",
    "df.show(5)"
   ]
  },
  {
   "cell_type": "code",
   "execution_count": 32,
   "metadata": {},
   "outputs": [
    {
     "name": "stdout",
     "output_type": "stream",
     "text": [
      "corr entre  year  y travel_time:  -0.017008307485839865\n",
      "corr entre  month  y travel_time:  -0.0018332803616744034\n",
      "corr entre  day  y travel_time:  -0.0031154427990553665\n",
      "corr entre  hour  y travel_time:  0.013875416798685149\n",
      "corr entre  travel_time  y travel_time:  1.0\n",
      "corr entre  agrng_0  y travel_time:  0.024417612656568017\n",
      "corr entre  agrng_1  y travel_time:  0.01925697411883967\n",
      "corr entre  agrng_2  y travel_time:  0.0003806258007188328\n",
      "corr entre  agrng_3  y travel_time:  -0.006403669963036548\n",
      "corr entre  agrng_4  y travel_time:  -0.02439301321300211\n",
      "corr entre  agrng_5  y travel_time:  0.0004747325884247928\n",
      "corr entre  agrng_6  y travel_time:  -0.003042317503762217\n"
     ]
    }
   ],
   "source": [
    "for i in df.columns:\n",
    "    print(\"corr entre \",i,\" y travel_time: \",df.stat.corr('travel_time',i))"
   ]
  },
  {
   "cell_type": "code",
   "execution_count": 54,
   "metadata": {},
   "outputs": [],
   "source": [
    "m = df.select('month').rdd.flatMap(lambda x : x).collect()\n",
    "t = df.select('travel_time').rdd.flatMap(lambda x : x).collect()"
   ]
  },
  {
   "cell_type": "code",
   "execution_count": 57,
   "metadata": {
    "scrolled": true
   },
   "outputs": [
    {
     "name": "stdout",
     "output_type": "stream",
     "text": [
      "[6, 6, 6, 6, 6, 6, 6, 6, 6, 6]\n",
      "[219, 359, 375, 264, 367, 174, 308, 462, 482, 480]\n"
     ]
    }
   ],
   "source": [
    "print(m[:10])\n",
    "print(t[:10])"
   ]
  },
  {
   "cell_type": "code",
   "execution_count": 62,
   "metadata": {},
   "outputs": [
    {
     "data": {
      "text/plain": [
       "(0.0, 25000.0)"
      ]
     },
     "execution_count": 62,
     "metadata": {},
     "output_type": "execute_result"
    },
    {
     "data": {
      "image/png": "[encoded data removed]",
      "text/plain": [
       "<Figure size 432x288 with 1 Axes>"
      ]
     },
     "metadata": {
      "needs_background": "light"
     },
     "output_type": "display_data"
    }
   ],
   "source": [
    "plt.scatter(m,t,alpha = 0.1)\n",
    "plt.ylim(0,25000)"
   ]
  },
  {
   "cell_type": "code",
   "execution_count": 63,
   "metadata": {},
   "outputs": [
    {
     "data": {
      "text/plain": [
       "(0.0, 25000.0)"
      ]
     },
     "execution_count": 63,
     "metadata": {},
     "output_type": "execute_result"
    },
    {
     "data": {
      "image/png": "[encoded data removed]",
      "text/plain": [
       "<Figure size 432x288 with 1 Axes>"
      ]
     },
     "metadata": {
      "needs_background": "light"
     },
     "output_type": "display_data"
    }
   ],
   "source": [
    "d = df.select('day').rdd.flatMap(lambda x : x).collect()\n",
    "plt.scatter(d,t,alpha = 0.1)\n",
    "plt.ylim(0,25000)"
   ]
  },
  {
   "cell_type": "code",
   "execution_count": 64,
   "metadata": {},
   "outputs": [
    {
     "data": {
      "text/plain": [
       "(0.0, 25000.0)"
      ]
     },
     "execution_count": 64,
     "metadata": {},
     "output_type": "execute_result"
    },
    {
     "data": {
      "image/png": "[encoded data removed]",
      "text/plain": [
       "<Figure size 432x288 with 1 Axes>"
      ]
     },
     "metadata": {
      "needs_background": "light"
     },
     "output_type": "display_data"
    }
   ],
   "source": [
    "h = df.select('hour').rdd.flatMap(lambda x : x).collect()\n",
    "plt.scatter(h,t,alpha = 0.1)\n",
    "plt.ylim(0,25000)"
   ]
  },
  {
   "cell_type": "code",
   "execution_count": 74,
   "metadata": {},
   "outputs": [
    {
     "data": {
      "text/plain": [
       "(0.0, 25000.0)"
      ]
     },
     "execution_count": 74,
     "metadata": {},
     "output_type": "execute_result"
    },
    {
     "data": {
      "image/png": "[encoded data removed]",
      "text/plain": [
       "<Figure size 432x288 with 1 Axes>"
      ]
     },
     "metadata": {
      "needs_background": "light"
     },
     "output_type": "display_data"
    }
   ],
   "source": [
    "y = df.select('year').rdd.flatMap(lambda x : x).collect()\n",
    "plt.scatter(y,t,alpha = 0.1)\n",
    "plt.ylim(0,25000)"
   ]
  },
  {
   "cell_type": "code",
   "execution_count": 73,
   "metadata": {
    "scrolled": false
   },
   "outputs": [
    {
     "data": {
      "image/png": "[encoded data removed]",
      "text/plain": [
       "<Figure size 432x288 with 1 Axes>"
      ]
     },
     "metadata": {
      "needs_background": "light"
     },
     "output_type": "display_data"
    },
    {
     "data": {
      "image/png": "[encoded data removed]",
      "text/plain": [
       "<Figure size 432x288 with 1 Axes>"
      ]
     },
     "metadata": {
      "needs_background": "light"
     },
     "output_type": "display_data"
    },
    {
     "data": {
      "image/png": "[encoded data removed]",
      "text/plain": [
       "<Figure size 432x288 with 1 Axes>"
      ]
     },
     "metadata": {
      "needs_background": "light"
     },
     "output_type": "display_data"
    },
    {
     "data": {
      "image/png": "[encoded data removed]",
      "text/plain": [
       "<Figure size 432x288 with 1 Axes>"
      ]
     },
     "metadata": {
      "needs_background": "light"
     },
     "output_type": "display_data"
    },
    {
     "data": {
      "image/png": "[encoded data removed]",
      "text/plain": [
       "<Figure size 432x288 with 1 Axes>"
      ]
     },
     "metadata": {
      "needs_background": "light"
     },
     "output_type": "display_data"
    },
    {
     "data": {
      "image/png": "[encoded data removed]",
      "text/plain": [
       "<Figure size 432x288 with 1 Axes>"
      ]
     },
     "metadata": {
      "needs_background": "light"
     },
     "output_type": "display_data"
    },
    {
     "data": {
      "image/png": "[encoded data removed]",
      "text/plain": [
       "<Figure size 432x288 with 1 Axes>"
      ]
     },
     "metadata": {
      "needs_background": "light"
     },
     "output_type": "display_data"
    }
   ],
   "source": [
    "for i in ['agrng_0','agrng_1','agrng_2','agrng_3','agrng_4','agrng_5','agrng_6']:\n",
    "    a = df.select(i).rdd.flatMap(lambda x : x).collect()\n",
    "    plt.scatter(a,t,alpha = 0.1)\n",
    "    plt.ylim(0,25000)\n",
    "    plt.title(i)\n",
    "    plt.show()"
   ]
  },
  {
   "cell_type": "code",
   "execution_count": 75,
   "metadata": {},
   "outputs": [
    {
     "data": {
      "text/plain": [
       "['year',\n",
       " 'month',\n",
       " 'day',\n",
       " 'hour',\n",
       " 'travel_time',\n",
       " 'agrng_0',\n",
       " 'agrng_1',\n",
       " 'agrng_2',\n",
       " 'agrng_3',\n",
       " 'agrng_4',\n",
       " 'agrng_5',\n",
       " 'agrng_6']"
      ]
     },
     "execution_count": 75,
     "metadata": {},
     "output_type": "execute_result"
    }
   ],
   "source": [
    "df.columns"
   ]
  },
  {
   "cell_type": "code",
   "execution_count": 76,
   "metadata": {},
   "outputs": [
    {
     "name": "stdout",
     "output_type": "stream",
     "text": [
      "+--------------------+-----------+\n",
      "|            features|travel_time|\n",
      "+--------------------+-----------+\n",
      "|(11,[0,1,2,4],[20...|        219|\n",
      "|(11,[0,1,2,8],[20...|        359|\n",
      "|(11,[0,1,2,8],[20...|        375|\n",
      "|(11,[0,1,2,9],[20...|        264|\n",
      "|(11,[0,1,2,8],[20...|        367|\n",
      "+--------------------+-----------+\n",
      "only showing top 5 rows\n",
      "\n"
     ]
    }
   ],
   "source": [
    "columnJoin = VectorAssembler(inputCols = ['year','month','day','hour','agrng_0','agrng_1','agrng_2','agrng_3','agrng_4','agrng_5','agrng_6'],outputCol = 'features')\n",
    "t_df = columnJoin.transform(df)\n",
    "t_df = t_df.select(['features','travel_time'])\n",
    "t_df.show(5)"
   ]
  },
  {
   "cell_type": "code",
   "execution_count": 77,
   "metadata": {},
   "outputs": [
    {
     "name": "stdout",
     "output_type": "stream",
     "text": [
      "root\n",
      " |-- features: vector (nullable = true)\n",
      " |-- travel_time: long (nullable = true)\n",
      "\n"
     ]
    }
   ],
   "source": [
    "t_df.printSchema()"
   ]
  },
  {
   "cell_type": "code",
   "execution_count": 78,
   "metadata": {},
   "outputs": [],
   "source": [
    "splits = t_df.randomSplit([0.7, 0.3])\n",
    "train_df = splits[0]\n",
    "test_df = splits[1]"
   ]
  },
  {
   "cell_type": "code",
   "execution_count": 79,
   "metadata": {},
   "outputs": [
    {
     "name": "stdout",
     "output_type": "stream",
     "text": [
      "Coefficients: [-154.23206752463292,-22.16393565437596,-6.580214967931145,4.634253212535606,103.49741450634177,425.7663990048011,-120.33669466732773,-30.3489522308728,-112.61527862739544,7.081295284194966,-2.237927632443745]\n",
      "Intercept: 312415.1149267141\n"
     ]
    }
   ],
   "source": [
    "lr = LinearRegression(featuresCol = 'features', labelCol='travel_time')\n",
    "lr_model = lr.fit(train_df)\n",
    "print(\"Coefficients: \" + str(lr_model.coefficients))\n",
    "print(\"Intercept: \" + str(lr_model.intercept))"
   ]
  },
  {
   "cell_type": "code",
   "execution_count": 80,
   "metadata": {},
   "outputs": [],
   "source": [
    "summ = lr_model.summary"
   ]
  },
  {
   "cell_type": "code",
   "execution_count": 81,
   "metadata": {},
   "outputs": [
    {
     "name": "stdout",
     "output_type": "stream",
     "text": [
      "3166.5923822308764\n",
      "0.001905786037846302\n"
     ]
    }
   ],
   "source": [
    "print(summ.rootMeanSquaredError)\n",
    "print(summ.r2)"
   ]
  }
 ],
 "metadata": {
  "kernelspec": {
   "display_name": "Python 3",
   "language": "python",
   "name": "python3"
  },
  "language_info": {
   "codemirror_mode": {
    "name": "ipython",
    "version": 3
   },
   "file_extension": ".py",
   "mimetype": "text/x-python",
   "name": "python",
   "nbconvert_exporter": "python",
   "pygments_lexer": "ipython3",
   "version": "3.8.10"
  }
 },
 "nbformat": 4,
 "nbformat_minor": 4
}
