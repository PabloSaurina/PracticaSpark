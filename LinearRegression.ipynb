{
 "cells": [
  {
   "cell_type": "code",
   "execution_count": 72,
   "metadata": {},
   "outputs": [],
   "source": [
    "from pyspark.sql import SparkSession\n",
    "from datetime import datetime\n",
    "import json\n",
    "from pyspark.ml.regression import LinearRegression\n",
    "from pyspark.ml.feature import VectorAssembler"
   ]
  },
  {
   "cell_type": "code",
   "execution_count": 1,
   "metadata": {},
   "outputs": [],
   "source": [
    "spark = SparkSession.builder.getOrCreate()\n",
    "sc = spark.sparkContext"
   ]
  },
  {
   "cell_type": "code",
   "execution_count": 3,
   "metadata": {},
   "outputs": [
    {
     "name": "stdout",
     "output_type": "stream",
     "text": [
      "+--------------------+--------+-----------+--------------+-------------+----------------+-----------+--------------------+--------------------+---------+--------+\n",
      "|                 _id|ageRange|idplug_base|idplug_station|idunplug_base|idunplug_station|travel_time|     unplug_hourTime|       user_day_code|user_type|zip_code|\n",
      "+--------------------+--------+-----------+--------------+-------------+----------------+-----------+--------------------+--------------------+---------+--------+\n",
      "|[5cf83b752f3843a0...|       0|         21|            66|            8|              90|        219|[2019-06-01T00:00...|e4d55deb9ac172a8d...|        1|        |\n",
      "|[5cf83b762f3843a0...|       4|         19|           136|           19|              71|        359|[2019-06-01T00:00...|8a0c4123e924a50a9...|        1|   28039|\n",
      "|[5cf83b762f3843a0...|       4|         17|            38|            7|              39|        375|[2019-06-01T00:00...|a6a9c1f74a6849600...|        1|   28013|\n",
      "|[5cf83b762f3843a0...|       5|          4|            90|           21|              66|        264|[2019-06-01T00:00...|5706c0bd494acc022...|        1|   28009|\n",
      "|[5cf83b762f3843a0...|       4|          3|           166|           13|             152|        367|[2019-06-01T00:00...|eb1b6d32bd4add5d5...|        1|   28006|\n",
      "+--------------------+--------+-----------+--------------+-------------+----------------+-----------+--------------------+--------------------+---------+--------+\n",
      "only showing top 5 rows\n",
      "\n"
     ]
    }
   ],
   "source": [
    "df = spark.read.json('sample_10e3.json')\n",
    "df.show(5)"
   ]
  },
  {
   "cell_type": "code",
   "execution_count": 7,
   "metadata": {},
   "outputs": [],
   "source": [
    "def get_data(line):\n",
    "    data = json.loads(line)\n",
    "    data[\"_id\"] = data[\"_id\"][\"$oid\"]\n",
    "    data['unplug_hourTime'] = datetime.strptime(data['unplug_hourTime']['$date'], \"%Y-%m-%dT%H:%M:%S.%f%z\")\n",
    "    return data"
   ]
  },
  {
   "cell_type": "code",
   "execution_count": 8,
   "metadata": {},
   "outputs": [
    {
     "name": "stderr",
     "output_type": "stream",
     "text": [
      "/usr/local/lib/python3.8/dist-packages/pyspark/sql/session.py:401: UserWarning: Using RDD of dict to inferSchema is deprecated. Use pyspark.sql.Row instead\n",
      "  warnings.warn(\"Using RDD of dict to inferSchema is deprecated. \"\n"
     ]
    }
   ],
   "source": [
    "rdd = sc.textFile('sample_10e2.json').map(get_data)\n",
    "df = spark.createDataFrame(rdd)"
   ]
  },
  {
   "cell_type": "code",
   "execution_count": 9,
   "metadata": {},
   "outputs": [
    {
     "name": "stdout",
     "output_type": "stream",
     "text": [
      "root\n",
      " |-- _id: string (nullable = true)\n",
      " |-- ageRange: long (nullable = true)\n",
      " |-- idplug_base: long (nullable = true)\n",
      " |-- idplug_station: long (nullable = true)\n",
      " |-- idunplug_base: long (nullable = true)\n",
      " |-- idunplug_station: long (nullable = true)\n",
      " |-- travel_time: long (nullable = true)\n",
      " |-- unplug_hourTime: timestamp (nullable = true)\n",
      " |-- user_day_code: string (nullable = true)\n",
      " |-- user_type: long (nullable = true)\n",
      " |-- zip_code: string (nullable = true)\n",
      "\n"
     ]
    }
   ],
   "source": [
    "df.printSchema()"
   ]
  },
  {
   "cell_type": "code",
   "execution_count": 10,
   "metadata": {},
   "outputs": [
    {
     "name": "stdout",
     "output_type": "stream",
     "text": [
      "+--------------------+--------+-----------+--------------+-------------+----------------+-----------+-------------------+--------------------+---------+--------+\n",
      "|                 _id|ageRange|idplug_base|idplug_station|idunplug_base|idunplug_station|travel_time|    unplug_hourTime|       user_day_code|user_type|zip_code|\n",
      "+--------------------+--------+-----------+--------------+-------------+----------------+-----------+-------------------+--------------------+---------+--------+\n",
      "|5cf83b752f3843a01...|       0|         21|            66|            8|              90|        219|2019-06-01 00:00:00|e4d55deb9ac172a8d...|        1|        |\n",
      "|5cf83b762f3843a01...|       4|         19|           136|           19|              71|        359|2019-06-01 00:00:00|8a0c4123e924a50a9...|        1|   28039|\n",
      "|5cf83b762f3843a01...|       4|         17|            38|            7|              39|        375|2019-06-01 00:00:00|a6a9c1f74a6849600...|        1|   28013|\n",
      "|5cf83b762f3843a01...|       5|          4|            90|           21|              66|        264|2019-06-01 00:00:00|5706c0bd494acc022...|        1|   28009|\n",
      "|5cf83b762f3843a01...|       4|          3|           166|           13|             152|        367|2019-06-01 00:00:00|eb1b6d32bd4add5d5...|        1|   28006|\n",
      "+--------------------+--------+-----------+--------------+-------------+----------------+-----------+-------------------+--------------------+---------+--------+\n",
      "only showing top 5 rows\n",
      "\n"
     ]
    }
   ],
   "source": [
    "df.show(5)"
   ]
  },
  {
   "cell_type": "code",
   "execution_count": 17,
   "metadata": {},
   "outputs": [
    {
     "name": "stdout",
     "output_type": "stream",
     "text": [
      "+--------+\n",
      "|ageRange|\n",
      "+--------+\n",
      "|       0|\n",
      "|       4|\n",
      "|       4|\n",
      "|       5|\n",
      "|       4|\n",
      "+--------+\n",
      "only showing top 5 rows\n",
      "\n"
     ]
    }
   ],
   "source": [
    "df.select('ageRange').show(5)"
   ]
  },
  {
   "cell_type": "code",
   "execution_count": 19,
   "metadata": {},
   "outputs": [
    {
     "name": "stdout",
     "output_type": "stream",
     "text": [
      "+---------+-----+\n",
      "|user_type|count|\n",
      "+---------+-----+\n",
      "|        1|  100|\n",
      "+---------+-----+\n",
      "\n"
     ]
    }
   ],
   "source": [
    "df.groupBy('user_type').count().show()"
   ]
  },
  {
   "cell_type": "code",
   "execution_count": 30,
   "metadata": {},
   "outputs": [
    {
     "name": "stdout",
     "output_type": "stream",
     "text": [
      "+--------+-----------+--------------+-------------+----------------+-----------+-------------------+---------+--------+\n",
      "|ageRange|idplug_base|idplug_station|idunplug_base|idunplug_station|travel_time|    unplug_hourTime|user_type|zip_code|\n",
      "+--------+-----------+--------------+-------------+----------------+-----------+-------------------+---------+--------+\n",
      "|       0|         21|            66|            8|              90|        219|2019-06-01 00:00:00|        1|        |\n",
      "|       4|         19|           136|           19|              71|        359|2019-06-01 00:00:00|        1|   28039|\n",
      "|       4|         17|            38|            7|              39|        375|2019-06-01 00:00:00|        1|   28013|\n",
      "|       5|          4|            90|           21|              66|        264|2019-06-01 00:00:00|        1|   28009|\n",
      "|       4|          3|           166|           13|             152|        367|2019-06-01 00:00:00|        1|   28006|\n",
      "+--------+-----------+--------------+-------------+----------------+-----------+-------------------+---------+--------+\n",
      "only showing top 5 rows\n",
      "\n"
     ]
    }
   ],
   "source": [
    "df = df.drop('_id','user_day_code')\n",
    "df.show(5)"
   ]
  },
  {
   "cell_type": "code",
   "execution_count": 32,
   "metadata": {},
   "outputs": [
    {
     "name": "stdout",
     "output_type": "stream",
     "text": [
      "+-------------------+\n",
      "|    unplug_hourTime|\n",
      "+-------------------+\n",
      "|2019-06-01 00:00:00|\n",
      "|2019-06-01 00:00:00|\n",
      "|2019-06-01 00:00:00|\n",
      "|2019-06-01 00:00:00|\n",
      "|2019-06-01 00:00:00|\n",
      "|2019-06-01 00:00:00|\n",
      "|2019-06-01 00:00:00|\n",
      "|2019-06-01 00:00:00|\n",
      "|2019-06-01 00:00:00|\n",
      "|2019-06-01 00:00:00|\n",
      "+-------------------+\n",
      "only showing top 10 rows\n",
      "\n"
     ]
    }
   ],
   "source": [
    "df.select('unplug_hourTime').show(10)"
   ]
  },
  {
   "cell_type": "code",
   "execution_count": 33,
   "metadata": {},
   "outputs": [
    {
     "name": "stdout",
     "output_type": "stream",
     "text": [
      "+-------------------+-----+\n",
      "|    unplug_hourTime|count|\n",
      "+-------------------+-----+\n",
      "|2019-06-01 00:00:00|  100|\n",
      "+-------------------+-----+\n",
      "\n"
     ]
    }
   ],
   "source": [
    "df.groupBy('unplug_hourTime').count().show()"
   ]
  },
  {
   "cell_type": "code",
   "execution_count": 34,
   "metadata": {},
   "outputs": [
    {
     "name": "stdout",
     "output_type": "stream",
     "text": [
      "+--------+-----------+--------------+-------------+----------------+-----------+---------+--------+\n",
      "|ageRange|idplug_base|idplug_station|idunplug_base|idunplug_station|travel_time|user_type|zip_code|\n",
      "+--------+-----------+--------------+-------------+----------------+-----------+---------+--------+\n",
      "|       0|         21|            66|            8|              90|        219|        1|        |\n",
      "|       4|         19|           136|           19|              71|        359|        1|   28039|\n",
      "|       4|         17|            38|            7|              39|        375|        1|   28013|\n",
      "|       5|          4|            90|           21|              66|        264|        1|   28009|\n",
      "|       4|          3|           166|           13|             152|        367|        1|   28006|\n",
      "+--------+-----------+--------------+-------------+----------------+-----------+---------+--------+\n",
      "only showing top 5 rows\n",
      "\n"
     ]
    }
   ],
   "source": [
    "df = df.drop('unplug_hourTime')\n",
    "df.show(5)"
   ]
  },
  {
   "cell_type": "code",
   "execution_count": 48,
   "metadata": {},
   "outputs": [],
   "source": [
    "df = df.where(df.user_type == 1)"
   ]
  },
  {
   "cell_type": "code",
   "execution_count": 49,
   "metadata": {},
   "outputs": [
    {
     "name": "stdout",
     "output_type": "stream",
     "text": [
      "+--------+-----------+--------------+-------------+----------------+-----------+--------+\n",
      "|ageRange|idplug_base|idplug_station|idunplug_base|idunplug_station|travel_time|zip_code|\n",
      "+--------+-----------+--------------+-------------+----------------+-----------+--------+\n",
      "|       0|         21|            66|            8|              90|        219|        |\n",
      "|       4|         19|           136|           19|              71|        359|   28039|\n",
      "|       4|         17|            38|            7|              39|        375|   28013|\n",
      "|       5|          4|            90|           21|              66|        264|   28009|\n",
      "|       4|          3|           166|           13|             152|        367|   28006|\n",
      "+--------+-----------+--------------+-------------+----------------+-----------+--------+\n",
      "only showing top 5 rows\n",
      "\n"
     ]
    }
   ],
   "source": [
    "df = df.drop('user_type')\n",
    "df.show(5)"
   ]
  },
  {
   "cell_type": "code",
   "execution_count": 53,
   "metadata": {},
   "outputs": [
    {
     "name": "stdout",
     "output_type": "stream",
     "text": [
      "+--------+-----+\n",
      "|zip_code|count|\n",
      "+--------+-----+\n",
      "|   28039|    1|\n",
      "|   28019|    1|\n",
      "|   28015|    2|\n",
      "|   28001|    1|\n",
      "|   28030|    1|\n",
      "+--------+-----+\n",
      "only showing top 5 rows\n",
      "\n"
     ]
    }
   ],
   "source": [
    "df.groupBy('zip_code').count().show(5)"
   ]
  },
  {
   "cell_type": "code",
   "execution_count": 57,
   "metadata": {},
   "outputs": [
    {
     "data": {
      "text/plain": [
       "31"
      ]
     },
     "execution_count": 57,
     "metadata": {},
     "output_type": "execute_result"
    }
   ],
   "source": [
    "df.select('zip_code').distinct().count()"
   ]
  },
  {
   "cell_type": "code",
   "execution_count": 58,
   "metadata": {},
   "outputs": [
    {
     "name": "stdout",
     "output_type": "stream",
     "text": [
      "+--------+-----------+--------------+-------------+----------------+-----------+\n",
      "|ageRange|idplug_base|idplug_station|idunplug_base|idunplug_station|travel_time|\n",
      "+--------+-----------+--------------+-------------+----------------+-----------+\n",
      "|       0|         21|            66|            8|              90|        219|\n",
      "|       4|         19|           136|           19|              71|        359|\n",
      "|       4|         17|            38|            7|              39|        375|\n",
      "|       5|          4|            90|           21|              66|        264|\n",
      "|       4|          3|           166|           13|             152|        367|\n",
      "+--------+-----------+--------------+-------------+----------------+-----------+\n",
      "only showing top 5 rows\n",
      "\n"
     ]
    }
   ],
   "source": [
    "df = df.drop('zip_code')\n",
    "df.show(5)"
   ]
  },
  {
   "cell_type": "code",
   "execution_count": 69,
   "metadata": {},
   "outputs": [
    {
     "data": {
      "text/plain": [
       "['ageRange',\n",
       " 'idplug_base',\n",
       " 'idplug_station',\n",
       " 'idunplug_base',\n",
       " 'idunplug_station',\n",
       " 'travel_time']"
      ]
     },
     "execution_count": 69,
     "metadata": {},
     "output_type": "execute_result"
    }
   ],
   "source": [
    "df.columns"
   ]
  },
  {
   "cell_type": "code",
   "execution_count": 73,
   "metadata": {},
   "outputs": [
    {
     "name": "stdout",
     "output_type": "stream",
     "text": [
      "+--------------------+-----------+\n",
      "|            features|travel_time|\n",
      "+--------------------+-----------+\n",
      "|[0.0,21.0,66.0,8....|        219|\n",
      "|[4.0,19.0,136.0,1...|        359|\n",
      "|[4.0,17.0,38.0,7....|        375|\n",
      "|[5.0,4.0,90.0,21....|        264|\n",
      "|[4.0,3.0,166.0,13...|        367|\n",
      "+--------------------+-----------+\n",
      "only showing top 5 rows\n",
      "\n"
     ]
    }
   ],
   "source": [
    "columnJoin = VectorAssembler(inputCols = ['ageRange','idplug_base','idplug_station','idunplug_base','idunplug_station'],outputCol = 'features')\n",
    "t_df = columnJoin.transform(df)\n",
    "t_df = t_df.select(['features','travel_time'])\n",
    "t_df.show(5)"
   ]
  },
  {
   "cell_type": "code",
   "execution_count": 83,
   "metadata": {},
   "outputs": [
    {
     "name": "stdout",
     "output_type": "stream",
     "text": [
      "root\n",
      " |-- features: vector (nullable = true)\n",
      " |-- travel_time: long (nullable = true)\n",
      "\n"
     ]
    }
   ],
   "source": [
    "t_df.printSchema()"
   ]
  },
  {
   "cell_type": "code",
   "execution_count": 74,
   "metadata": {},
   "outputs": [],
   "source": [
    "splits = t_df.randomSplit([0.7, 0.3])\n",
    "train_df = splits[0]\n",
    "test_df = splits[1]"
   ]
  },
  {
   "cell_type": "code",
   "execution_count": 90,
   "metadata": {},
   "outputs": [
    {
     "name": "stdout",
     "output_type": "stream",
     "text": [
      "Coefficients: [9.799760781641279,3.755370862660791,0.30123123361074516,2.7128952920364893,0.827196508219447]\n",
      "Intercept: 386.5191902222934\n"
     ]
    }
   ],
   "source": [
    "lr = LinearRegression(featuresCol = 'features', labelCol='travel_time')\n",
    "lr_model = lr.fit(train_df)\n",
    "print(\"Coefficients: \" + str(lr_model.coefficients))\n",
    "print(\"Intercept: \" + str(lr_model.intercept))"
   ]
  },
  {
   "cell_type": "code",
   "execution_count": 91,
   "metadata": {},
   "outputs": [],
   "source": [
    "summ = lr_model.summary"
   ]
  },
  {
   "cell_type": "code",
   "execution_count": 93,
   "metadata": {},
   "outputs": [
    {
     "name": "stdout",
     "output_type": "stream",
     "text": [
      "241.2767730909206\n",
      "0.058319041033486174\n"
     ]
    }
   ],
   "source": [
    "print(summ.rootMeanSquaredError)\n",
    "print(summ.r2)"
   ]
  }
 ],
 "metadata": {
  "kernelspec": {
   "display_name": "Python 3",
   "language": "python",
   "name": "python3"
  },
  "language_info": {
   "codemirror_mode": {
    "name": "ipython",
    "version": 3
   },
   "file_extension": ".py",
   "mimetype": "text/x-python",
   "name": "python",
   "nbconvert_exporter": "python",
   "pygments_lexer": "ipython3",
   "version": "3.8.10"
  }
 },
 "nbformat": 4,
 "nbformat_minor": 4
}
