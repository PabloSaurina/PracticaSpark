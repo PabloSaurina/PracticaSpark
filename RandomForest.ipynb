{
 "cells": [
  {
   "cell_type": "markdown",
   "metadata": {},
   "source": [
    "# Práctica de Spark con BiciMad, aplicamos ML a la base de datos \n"
   ]
  },
  {
   "cell_type": "code",
   "execution_count": 411,
   "metadata": {},
   "outputs": [],
   "source": [
    "#Importaciones Varias\n",
    "from pyspark import SparkConf, SparkContext\n",
    "from pyspark.sql import SparkSession\n",
    "from pyspark.ml.classification import LogisticRegression\n",
    "from pyspark.ml.feature import StringIndexer, VectorAssembler\n",
    "from pyspark.ml import Pipeline\n",
    "from pyspark.sql.types import StructType, StructField, IntegerType, StringType\n",
    "from pyspark.sql import SparkSession\n",
    "from datetime import datetime\n",
    "import json\n",
    "from pyspark.ml.regression import LinearRegression\n",
    "from pyspark.ml.feature import VectorAssembler\n",
    "from pyspark.sql.functions import *\n",
    "import matplotlib.pyplot as plt"
   ]
  },
  {
   "cell_type": "code",
   "execution_count": 448,
   "metadata": {},
   "outputs": [],
   "source": [
    "spark = SparkSession.builder.getOrCreate()\n",
    "df = spark.read.json('sample_10e3.json')\n",
    "sc = spark.sparkContext"
   ]
  },
  {
   "cell_type": "code",
   "execution_count": 449,
   "metadata": {},
   "outputs": [
    {
     "name": "stdout",
     "output_type": "stream",
     "text": [
      "+--------------------+--------+-----------+--------------+-------------+----------------+-----------+--------------------+--------------------+---------+--------+\n",
      "|                 _id|ageRange|idplug_base|idplug_station|idunplug_base|idunplug_station|travel_time|     unplug_hourTime|       user_day_code|user_type|zip_code|\n",
      "+--------------------+--------+-----------+--------------+-------------+----------------+-----------+--------------------+--------------------+---------+--------+\n",
      "|{5cf83b752f3843a0...|       0|         21|            66|            8|              90|        219|{2019-06-01T00:00...|e4d55deb9ac172a8d...|        1|        |\n",
      "|{5cf83b762f3843a0...|       4|         19|           136|           19|              71|        359|{2019-06-01T00:00...|8a0c4123e924a50a9...|        1|   28039|\n",
      "|{5cf83b762f3843a0...|       4|         17|            38|            7|              39|        375|{2019-06-01T00:00...|a6a9c1f74a6849600...|        1|   28013|\n",
      "|{5cf83b762f3843a0...|       5|          4|            90|           21|              66|        264|{2019-06-01T00:00...|5706c0bd494acc022...|        1|   28009|\n",
      "|{5cf83b762f3843a0...|       4|          3|           166|           13|             152|        367|{2019-06-01T00:00...|eb1b6d32bd4add5d5...|        1|   28006|\n",
      "+--------------------+--------+-----------+--------------+-------------+----------------+-----------+--------------------+--------------------+---------+--------+\n",
      "only showing top 5 rows\n",
      "\n"
     ]
    }
   ],
   "source": [
    "df.show(5)"
   ]
  },
  {
   "cell_type": "code",
   "execution_count": 450,
   "metadata": {},
   "outputs": [],
   "source": [
    "def get_data(line):\n",
    "    data = json.loads(line)\n",
    "    data[\"_id\"] = data[\"_id\"][\"$oid\"]\n",
    "    data['unplug_hourTime'] = datetime.strptime(data['unplug_hourTime']['$date'], \"%Y-%m-%dT%H:%M:%S.%f%z\")\n",
    "    return data"
   ]
  },
  {
   "cell_type": "code",
   "execution_count": 451,
   "metadata": {},
   "outputs": [],
   "source": [
    "rdd = sc.textFile('sample_10e2.json').map(get_data)\n",
    "df = spark.createDataFrame(rdd)\n"
   ]
  },
  {
   "cell_type": "code",
   "execution_count": 475,
   "metadata": {},
   "outputs": [
    {
     "name": "stdout",
     "output_type": "stream",
     "text": [
      "root\n",
      " |-- _id: string (nullable = true)\n",
      " |-- ageRange: long (nullable = true)\n",
      " |-- idplug_base: long (nullable = true)\n",
      " |-- idplug_station: long (nullable = true)\n",
      " |-- idunplug_base: long (nullable = true)\n",
      " |-- idunplug_station: long (nullable = true)\n",
      " |-- travel_time: long (nullable = true)\n",
      " |-- unplug_hourTime: timestamp (nullable = true)\n",
      " |-- user_day_code: string (nullable = true)\n",
      " |-- user_type: long (nullable = true)\n",
      " |-- zip_code: string (nullable = true)\n",
      "\n",
      "root\n",
      " |-- _id: string (nullable = true)\n",
      " |-- ageRange: long (nullable = true)\n",
      " |-- idplug_base: long (nullable = true)\n",
      " |-- idplug_station: long (nullable = true)\n",
      " |-- idunplug_base: long (nullable = true)\n",
      " |-- idunplug_station: long (nullable = true)\n",
      " |-- travel_time: long (nullable = true)\n",
      " |-- unplug_hourTime: timestamp (nullable = true)\n",
      " |-- user_day_code: string (nullable = true)\n",
      " |-- user_type: long (nullable = true)\n",
      " |-- zip_code: string (nullable = true)\n",
      "\n"
     ]
    }
   ],
   "source": [
    "rdd = sc.textFile('sample_10e3.json').map(get_data)\n",
    "df1 = spark.createDataFrame(rdd)\n",
    "rdd = sc.textFile('sample_10e4.json').map(get_data)\n",
    "df2 = spark.createDataFrame(rdd)\n",
    "df1.printSchema()\n",
    "df2.printSchema()"
   ]
  },
  {
   "cell_type": "code",
   "execution_count": 476,
   "metadata": {},
   "outputs": [
    {
     "data": {
      "text/plain": [
       "11100"
      ]
     },
     "execution_count": 476,
     "metadata": {},
     "output_type": "execute_result"
    }
   ],
   "source": [
    "\n",
    "df1 = df1.unionAll(df2)\n",
    "df = df.unionAll(df1)\n",
    "df.count()"
   ]
  },
  {
   "cell_type": "code",
   "execution_count": 454,
   "metadata": {},
   "outputs": [
    {
     "data": {
      "text/html": [
       "<div>\n",
       "<style scoped>\n",
       "    .dataframe tbody tr th:only-of-type {\n",
       "        vertical-align: middle;\n",
       "    }\n",
       "\n",
       "    .dataframe tbody tr th {\n",
       "        vertical-align: top;\n",
       "    }\n",
       "\n",
       "    .dataframe thead th {\n",
       "        text-align: right;\n",
       "    }\n",
       "</style>\n",
       "<table border=\"1\" class=\"dataframe\">\n",
       "  <thead>\n",
       "    <tr style=\"text-align: right;\">\n",
       "      <th></th>\n",
       "      <th>_id</th>\n",
       "      <th>ageRange</th>\n",
       "      <th>idplug_base</th>\n",
       "      <th>idplug_station</th>\n",
       "      <th>idunplug_base</th>\n",
       "      <th>idunplug_station</th>\n",
       "      <th>travel_time</th>\n",
       "      <th>unplug_hourTime</th>\n",
       "      <th>user_day_code</th>\n",
       "      <th>user_type</th>\n",
       "      <th>zip_code</th>\n",
       "    </tr>\n",
       "  </thead>\n",
       "  <tbody>\n",
       "    <tr>\n",
       "      <th>0</th>\n",
       "      <td>5cf83b752f3843a016be4e2f</td>\n",
       "      <td>0</td>\n",
       "      <td>21</td>\n",
       "      <td>66</td>\n",
       "      <td>8</td>\n",
       "      <td>90</td>\n",
       "      <td>219</td>\n",
       "      <td>2019-06-01</td>\n",
       "      <td>e4d55deb9ac172a8d8f5f0a32599815bd51b7c8760d67e...</td>\n",
       "      <td>1</td>\n",
       "      <td></td>\n",
       "    </tr>\n",
       "    <tr>\n",
       "      <th>1</th>\n",
       "      <td>5cf83b762f3843a016be4e48</td>\n",
       "      <td>4</td>\n",
       "      <td>19</td>\n",
       "      <td>136</td>\n",
       "      <td>19</td>\n",
       "      <td>71</td>\n",
       "      <td>359</td>\n",
       "      <td>2019-06-01</td>\n",
       "      <td>8a0c4123e924a50a958f51985eb71aea750fb072438035...</td>\n",
       "      <td>1</td>\n",
       "      <td>28039</td>\n",
       "    </tr>\n",
       "    <tr>\n",
       "      <th>2</th>\n",
       "      <td>5cf83b762f3843a016be4e4f</td>\n",
       "      <td>4</td>\n",
       "      <td>17</td>\n",
       "      <td>38</td>\n",
       "      <td>7</td>\n",
       "      <td>39</td>\n",
       "      <td>375</td>\n",
       "      <td>2019-06-01</td>\n",
       "      <td>a6a9c1f74a68496000542210abc4fc2eba79e2756ad535...</td>\n",
       "      <td>1</td>\n",
       "      <td>28013</td>\n",
       "    </tr>\n",
       "    <tr>\n",
       "      <th>3</th>\n",
       "      <td>5cf83b762f3843a016be4e53</td>\n",
       "      <td>5</td>\n",
       "      <td>4</td>\n",
       "      <td>90</td>\n",
       "      <td>21</td>\n",
       "      <td>66</td>\n",
       "      <td>264</td>\n",
       "      <td>2019-06-01</td>\n",
       "      <td>5706c0bd494acc02279d532821c9666b0e506d4f81c838...</td>\n",
       "      <td>1</td>\n",
       "      <td>28009</td>\n",
       "    </tr>\n",
       "    <tr>\n",
       "      <th>4</th>\n",
       "      <td>5cf83b762f3843a016be4e54</td>\n",
       "      <td>4</td>\n",
       "      <td>3</td>\n",
       "      <td>166</td>\n",
       "      <td>13</td>\n",
       "      <td>152</td>\n",
       "      <td>367</td>\n",
       "      <td>2019-06-01</td>\n",
       "      <td>eb1b6d32bd4add5d5ff91af72a38786d61075c090383a5...</td>\n",
       "      <td>1</td>\n",
       "      <td>28006</td>\n",
       "    </tr>\n",
       "    <tr>\n",
       "      <th>...</th>\n",
       "      <td>...</td>\n",
       "      <td>...</td>\n",
       "      <td>...</td>\n",
       "      <td>...</td>\n",
       "      <td>...</td>\n",
       "      <td>...</td>\n",
       "      <td>...</td>\n",
       "      <td>...</td>\n",
       "      <td>...</td>\n",
       "      <td>...</td>\n",
       "      <td>...</td>\n",
       "    </tr>\n",
       "    <tr>\n",
       "      <th>95</th>\n",
       "      <td>5cf83b762f3843a016be4ef2</td>\n",
       "      <td>0</td>\n",
       "      <td>19</td>\n",
       "      <td>129</td>\n",
       "      <td>11</td>\n",
       "      <td>59</td>\n",
       "      <td>818</td>\n",
       "      <td>2019-06-01</td>\n",
       "      <td>f6bd6ac859f4b3ba75eb0a0e64c5d5124595cb6b302869...</td>\n",
       "      <td>1</td>\n",
       "      <td></td>\n",
       "    </tr>\n",
       "    <tr>\n",
       "      <th>96</th>\n",
       "      <td>5cf83b762f3843a016be4ef3</td>\n",
       "      <td>5</td>\n",
       "      <td>8</td>\n",
       "      <td>55</td>\n",
       "      <td>4</td>\n",
       "      <td>135</td>\n",
       "      <td>606</td>\n",
       "      <td>2019-06-01</td>\n",
       "      <td>130cec42450f3b141e2ecd4caeeadfd18867e676e3db24...</td>\n",
       "      <td>1</td>\n",
       "      <td>28026</td>\n",
       "    </tr>\n",
       "    <tr>\n",
       "      <th>97</th>\n",
       "      <td>5cf83b762f3843a016be4ef4</td>\n",
       "      <td>0</td>\n",
       "      <td>3</td>\n",
       "      <td>9</td>\n",
       "      <td>5</td>\n",
       "      <td>62</td>\n",
       "      <td>232</td>\n",
       "      <td>2019-06-01</td>\n",
       "      <td>14ece3cc40a508b532589db9bb09158ed4cbe2f9af40f0...</td>\n",
       "      <td>1</td>\n",
       "      <td></td>\n",
       "    </tr>\n",
       "    <tr>\n",
       "      <th>98</th>\n",
       "      <td>5cf83b762f3843a016be4ef5</td>\n",
       "      <td>5</td>\n",
       "      <td>4</td>\n",
       "      <td>77</td>\n",
       "      <td>3</td>\n",
       "      <td>65</td>\n",
       "      <td>301</td>\n",
       "      <td>2019-06-01</td>\n",
       "      <td>fa97bd556babed8fed7ef09a6502c4c4c400d904cfa901...</td>\n",
       "      <td>1</td>\n",
       "      <td>28007</td>\n",
       "    </tr>\n",
       "    <tr>\n",
       "      <th>99</th>\n",
       "      <td>5cf83b762f3843a016be4ef7</td>\n",
       "      <td>4</td>\n",
       "      <td>2</td>\n",
       "      <td>128</td>\n",
       "      <td>6</td>\n",
       "      <td>168</td>\n",
       "      <td>1047</td>\n",
       "      <td>2019-06-01</td>\n",
       "      <td>86ff283e7d6900a0965dc98e6cc68d1f2c8f678ac34bd5...</td>\n",
       "      <td>1</td>\n",
       "      <td>28010</td>\n",
       "    </tr>\n",
       "  </tbody>\n",
       "</table>\n",
       "<p>100 rows × 11 columns</p>\n",
       "</div>"
      ],
      "text/plain": [
       "                         _id  ageRange  idplug_base  idplug_station  \\\n",
       "0   5cf83b752f3843a016be4e2f         0           21              66   \n",
       "1   5cf83b762f3843a016be4e48         4           19             136   \n",
       "2   5cf83b762f3843a016be4e4f         4           17              38   \n",
       "3   5cf83b762f3843a016be4e53         5            4              90   \n",
       "4   5cf83b762f3843a016be4e54         4            3             166   \n",
       "..                       ...       ...          ...             ...   \n",
       "95  5cf83b762f3843a016be4ef2         0           19             129   \n",
       "96  5cf83b762f3843a016be4ef3         5            8              55   \n",
       "97  5cf83b762f3843a016be4ef4         0            3               9   \n",
       "98  5cf83b762f3843a016be4ef5         5            4              77   \n",
       "99  5cf83b762f3843a016be4ef7         4            2             128   \n",
       "\n",
       "    idunplug_base  idunplug_station  travel_time unplug_hourTime  \\\n",
       "0               8                90          219      2019-06-01   \n",
       "1              19                71          359      2019-06-01   \n",
       "2               7                39          375      2019-06-01   \n",
       "3              21                66          264      2019-06-01   \n",
       "4              13               152          367      2019-06-01   \n",
       "..            ...               ...          ...             ...   \n",
       "95             11                59          818      2019-06-01   \n",
       "96              4               135          606      2019-06-01   \n",
       "97              5                62          232      2019-06-01   \n",
       "98              3                65          301      2019-06-01   \n",
       "99              6               168         1047      2019-06-01   \n",
       "\n",
       "                                        user_day_code  user_type zip_code  \n",
       "0   e4d55deb9ac172a8d8f5f0a32599815bd51b7c8760d67e...          1           \n",
       "1   8a0c4123e924a50a958f51985eb71aea750fb072438035...          1    28039  \n",
       "2   a6a9c1f74a68496000542210abc4fc2eba79e2756ad535...          1    28013  \n",
       "3   5706c0bd494acc02279d532821c9666b0e506d4f81c838...          1    28009  \n",
       "4   eb1b6d32bd4add5d5ff91af72a38786d61075c090383a5...          1    28006  \n",
       "..                                                ...        ...      ...  \n",
       "95  f6bd6ac859f4b3ba75eb0a0e64c5d5124595cb6b302869...          1           \n",
       "96  130cec42450f3b141e2ecd4caeeadfd18867e676e3db24...          1    28026  \n",
       "97  14ece3cc40a508b532589db9bb09158ed4cbe2f9af40f0...          1           \n",
       "98  fa97bd556babed8fed7ef09a6502c4c4c400d904cfa901...          1    28007  \n",
       "99  86ff283e7d6900a0965dc98e6cc68d1f2c8f678ac34bd5...          1    28010  \n",
       "\n",
       "[100 rows x 11 columns]"
      ]
     },
     "execution_count": 454,
     "metadata": {},
     "output_type": "execute_result"
    }
   ],
   "source": [
    "df.toPandas()"
   ]
  },
  {
   "cell_type": "code",
   "execution_count": 455,
   "metadata": {},
   "outputs": [
    {
     "data": {
      "text/plain": [
       "['_id',\n",
       " 'ageRange',\n",
       " 'idplug_base',\n",
       " 'idplug_station',\n",
       " 'idunplug_base',\n",
       " 'idunplug_station',\n",
       " 'travel_time',\n",
       " 'unplug_hourTime',\n",
       " 'user_day_code',\n",
       " 'user_type',\n",
       " 'zip_code']"
      ]
     },
     "execution_count": 455,
     "metadata": {},
     "output_type": "execute_result"
    }
   ],
   "source": [
    "df.count()\n",
    "df.columns"
   ]
  },
  {
   "cell_type": "code",
   "execution_count": 456,
   "metadata": {},
   "outputs": [
    {
     "data": {
      "text/plain": [
       "[('_id', 'string'),\n",
       " ('ageRange', 'bigint'),\n",
       " ('idplug_base', 'bigint'),\n",
       " ('idplug_station', 'bigint'),\n",
       " ('idunplug_base', 'bigint'),\n",
       " ('idunplug_station', 'bigint'),\n",
       " ('travel_time', 'bigint'),\n",
       " ('unplug_hourTime', 'timestamp'),\n",
       " ('user_day_code', 'string'),\n",
       " ('user_type', 'bigint'),\n",
       " ('zip_code', 'string')]"
      ]
     },
     "execution_count": 456,
     "metadata": {},
     "output_type": "execute_result"
    }
   ],
   "source": [
    "df.dtypes"
   ]
  },
  {
   "cell_type": "code",
   "execution_count": 457,
   "metadata": {},
   "outputs": [
    {
     "data": {
      "text/html": [
       "<div>\n",
       "<style scoped>\n",
       "    .dataframe tbody tr th:only-of-type {\n",
       "        vertical-align: middle;\n",
       "    }\n",
       "\n",
       "    .dataframe tbody tr th {\n",
       "        vertical-align: top;\n",
       "    }\n",
       "\n",
       "    .dataframe thead th {\n",
       "        text-align: right;\n",
       "    }\n",
       "</style>\n",
       "<table border=\"1\" class=\"dataframe\">\n",
       "  <thead>\n",
       "    <tr style=\"text-align: right;\">\n",
       "      <th></th>\n",
       "      <th>summary</th>\n",
       "      <th>_id</th>\n",
       "      <th>ageRange</th>\n",
       "      <th>idplug_base</th>\n",
       "      <th>idplug_station</th>\n",
       "      <th>idunplug_base</th>\n",
       "      <th>idunplug_station</th>\n",
       "      <th>travel_time</th>\n",
       "      <th>user_day_code</th>\n",
       "      <th>user_type</th>\n",
       "      <th>zip_code</th>\n",
       "    </tr>\n",
       "  </thead>\n",
       "  <tbody>\n",
       "    <tr>\n",
       "      <th>0</th>\n",
       "      <td>count</td>\n",
       "      <td>100</td>\n",
       "      <td>100</td>\n",
       "      <td>100</td>\n",
       "      <td>100</td>\n",
       "      <td>100</td>\n",
       "      <td>100</td>\n",
       "      <td>100</td>\n",
       "      <td>100</td>\n",
       "      <td>100</td>\n",
       "      <td>100</td>\n",
       "    </tr>\n",
       "    <tr>\n",
       "      <th>1</th>\n",
       "      <td>mean</td>\n",
       "      <td>None</td>\n",
       "      <td>2.32</td>\n",
       "      <td>11.35</td>\n",
       "      <td>85.33</td>\n",
       "      <td>11.7</td>\n",
       "      <td>88.85</td>\n",
       "      <td>579.6</td>\n",
       "      <td>None</td>\n",
       "      <td>1.0</td>\n",
       "      <td>27897.90740740741</td>\n",
       "    </tr>\n",
       "    <tr>\n",
       "      <th>2</th>\n",
       "      <td>stddev</td>\n",
       "      <td>None</td>\n",
       "      <td>2.145608623126866</td>\n",
       "      <td>7.638783286689712</td>\n",
       "      <td>47.97517350387878</td>\n",
       "      <td>7.182329607158014</td>\n",
       "      <td>50.51499927264329</td>\n",
       "      <td>251.79501042063418</td>\n",
       "      <td>None</td>\n",
       "      <td>0.0</td>\n",
       "      <td>3308.26571603138</td>\n",
       "    </tr>\n",
       "    <tr>\n",
       "      <th>3</th>\n",
       "      <td>min</td>\n",
       "      <td>5cf83b752f3843a016be4e2f</td>\n",
       "      <td>0</td>\n",
       "      <td>1</td>\n",
       "      <td>1</td>\n",
       "      <td>1</td>\n",
       "      <td>1</td>\n",
       "      <td>133</td>\n",
       "      <td>01afe1971a4a4fa918461e78fbc9ccd9c4538da0b606bf...</td>\n",
       "      <td>1</td>\n",
       "      <td></td>\n",
       "    </tr>\n",
       "    <tr>\n",
       "      <th>4</th>\n",
       "      <td>max</td>\n",
       "      <td>5cf83b762f3843a016be4ef7</td>\n",
       "      <td>6</td>\n",
       "      <td>24</td>\n",
       "      <td>211</td>\n",
       "      <td>24</td>\n",
       "      <td>174</td>\n",
       "      <td>1264</td>\n",
       "      <td>fd44762b424ba560a44add4bae955a7e48343aa0da2fda...</td>\n",
       "      <td>1</td>\n",
       "      <td>39316</td>\n",
       "    </tr>\n",
       "  </tbody>\n",
       "</table>\n",
       "</div>"
      ],
      "text/plain": [
       "  summary                       _id           ageRange        idplug_base  \\\n",
       "0   count                       100                100                100   \n",
       "1    mean                      None               2.32              11.35   \n",
       "2  stddev                      None  2.145608623126866  7.638783286689712   \n",
       "3     min  5cf83b752f3843a016be4e2f                  0                  1   \n",
       "4     max  5cf83b762f3843a016be4ef7                  6                 24   \n",
       "\n",
       "      idplug_station      idunplug_base   idunplug_station  \\\n",
       "0                100                100                100   \n",
       "1              85.33               11.7              88.85   \n",
       "2  47.97517350387878  7.182329607158014  50.51499927264329   \n",
       "3                  1                  1                  1   \n",
       "4                211                 24                174   \n",
       "\n",
       "          travel_time                                      user_day_code  \\\n",
       "0                 100                                                100   \n",
       "1               579.6                                               None   \n",
       "2  251.79501042063418                                               None   \n",
       "3                 133  01afe1971a4a4fa918461e78fbc9ccd9c4538da0b606bf...   \n",
       "4                1264  fd44762b424ba560a44add4bae955a7e48343aa0da2fda...   \n",
       "\n",
       "  user_type           zip_code  \n",
       "0       100                100  \n",
       "1       1.0  27897.90740740741  \n",
       "2       0.0   3308.26571603138  \n",
       "3         1                     \n",
       "4         1              39316  "
      ]
     },
     "execution_count": 457,
     "metadata": {},
     "output_type": "execute_result"
    }
   ],
   "source": [
    "df.describe().toPandas()"
   ]
  },
  {
   "cell_type": "code",
   "execution_count": 467,
   "metadata": {},
   "outputs": [
    {
     "name": "stdout",
     "output_type": "stream",
     "text": [
      "+--------+-------------+----------------+---------+--------+-------------------+-----------+\n",
      "|ageRange|idunplug_base|idunplug_station|user_type|zip_code|    unplug_hourTime|travel_time|\n",
      "+--------+-------------+----------------+---------+--------+-------------------+-----------+\n",
      "|     0.0|          8.0|            90.0|      1.0|        |2019-06-01 00:00:00|      219.0|\n",
      "|     4.0|         19.0|            71.0|      1.0|   28039|2019-06-01 00:00:00|      359.0|\n",
      "|     4.0|          7.0|            39.0|      1.0|   28013|2019-06-01 00:00:00|      375.0|\n",
      "|     5.0|         21.0|            66.0|      1.0|   28009|2019-06-01 00:00:00|      264.0|\n",
      "|     4.0|         13.0|           152.0|      1.0|   28006|2019-06-01 00:00:00|      367.0|\n",
      "|     5.0|          4.0|            55.0|      1.0|   28907|2019-06-01 00:00:00|      174.0|\n",
      "|     0.0|          6.0|           133.0|      1.0|        |2019-06-01 00:00:00|      308.0|\n",
      "|     4.0|          3.0|           153.0|      1.0|   28003|2019-06-01 00:00:00|      462.0|\n",
      "|     0.0|         14.0|            44.0|      1.0|        |2019-06-01 00:00:00|      482.0|\n",
      "|     4.0|         21.0|            85.0|      1.0|   28004|2019-06-01 00:00:00|      480.0|\n",
      "|     5.0|         18.0|            31.0|      1.0|   28007|2019-06-01 00:00:00|      546.0|\n",
      "|     0.0|         15.0|            38.0|      1.0|        |2019-06-01 00:00:00|      519.0|\n",
      "|     4.0|         17.0|           118.0|      1.0|   39316|2019-06-01 00:00:00|      374.0|\n",
      "|     4.0|          9.0|            27.0|      1.0|   28012|2019-06-01 00:00:00|      188.0|\n",
      "|     4.0|         20.0|            90.0|      1.0|   28045|2019-06-01 00:00:00|      133.0|\n",
      "|     0.0|         21.0|           100.0|      1.0|        |2019-06-01 00:00:00|      514.0|\n",
      "|     4.0|          5.0|            67.0|      1.0|   28008|2019-06-01 00:00:00|      517.0|\n",
      "|     4.0|          3.0|            67.0|      1.0|   28019|2019-06-01 00:00:00|      525.0|\n",
      "|     0.0|          5.0|            63.0|      1.0|        |2019-06-01 00:00:00|      351.0|\n",
      "|     0.0|          7.0|            42.0|      1.0|        |2019-06-01 00:00:00|      483.0|\n",
      "+--------+-------------+----------------+---------+--------+-------------------+-----------+\n",
      "only showing top 20 rows\n",
      "\n"
     ]
    }
   ],
   "source": [
    "from pyspark.sql.functions import col\n",
    "\n",
    "dataset = df.select(col('ageRange').cast('float'),\n",
    "                        col('idunplug_base').cast('float'),\n",
    "                         col('idunplug_station').cast('float'),\n",
    "                        col('user_type').cast('float'),\n",
    "                        col('zip_code'),\n",
    "                    col('unplug_hourTime'),\n",
    "                     col('travel_time').cast('float')\n",
    "                        )\n",
    "dataset.show()"
   ]
  },
  {
   "cell_type": "code",
   "execution_count": 459,
   "metadata": {},
   "outputs": [
    {
     "data": {
      "text/html": [
       "<div>\n",
       "<style scoped>\n",
       "    .dataframe tbody tr th:only-of-type {\n",
       "        vertical-align: middle;\n",
       "    }\n",
       "\n",
       "    .dataframe tbody tr th {\n",
       "        vertical-align: top;\n",
       "    }\n",
       "\n",
       "    .dataframe thead th {\n",
       "        text-align: right;\n",
       "    }\n",
       "</style>\n",
       "<table border=\"1\" class=\"dataframe\">\n",
       "  <thead>\n",
       "    <tr style=\"text-align: right;\">\n",
       "      <th></th>\n",
       "      <th>summary</th>\n",
       "      <th>ageRange</th>\n",
       "      <th>idunplug_base</th>\n",
       "      <th>idunplug_station</th>\n",
       "      <th>user_type</th>\n",
       "      <th>zip_code</th>\n",
       "      <th>travel_time</th>\n",
       "    </tr>\n",
       "  </thead>\n",
       "  <tbody>\n",
       "    <tr>\n",
       "      <th>0</th>\n",
       "      <td>count</td>\n",
       "      <td>100</td>\n",
       "      <td>100</td>\n",
       "      <td>100</td>\n",
       "      <td>100</td>\n",
       "      <td>100</td>\n",
       "      <td>100</td>\n",
       "    </tr>\n",
       "    <tr>\n",
       "      <th>1</th>\n",
       "      <td>mean</td>\n",
       "      <td>2.32</td>\n",
       "      <td>11.7</td>\n",
       "      <td>88.85</td>\n",
       "      <td>1.0</td>\n",
       "      <td>27897.90740740741</td>\n",
       "      <td>579.6</td>\n",
       "    </tr>\n",
       "    <tr>\n",
       "      <th>2</th>\n",
       "      <td>stddev</td>\n",
       "      <td>2.145608623126866</td>\n",
       "      <td>7.182329607158014</td>\n",
       "      <td>50.51499927264329</td>\n",
       "      <td>0.0</td>\n",
       "      <td>3308.26571603138</td>\n",
       "      <td>251.79501042063418</td>\n",
       "    </tr>\n",
       "    <tr>\n",
       "      <th>3</th>\n",
       "      <td>min</td>\n",
       "      <td>0.0</td>\n",
       "      <td>1.0</td>\n",
       "      <td>1.0</td>\n",
       "      <td>1.0</td>\n",
       "      <td></td>\n",
       "      <td>133.0</td>\n",
       "    </tr>\n",
       "    <tr>\n",
       "      <th>4</th>\n",
       "      <td>max</td>\n",
       "      <td>6.0</td>\n",
       "      <td>24.0</td>\n",
       "      <td>174.0</td>\n",
       "      <td>1.0</td>\n",
       "      <td>39316</td>\n",
       "      <td>1264.0</td>\n",
       "    </tr>\n",
       "  </tbody>\n",
       "</table>\n",
       "</div>"
      ],
      "text/plain": [
       "  summary           ageRange      idunplug_base   idunplug_station user_type  \\\n",
       "0   count                100                100                100       100   \n",
       "1    mean               2.32               11.7              88.85       1.0   \n",
       "2  stddev  2.145608623126866  7.182329607158014  50.51499927264329       0.0   \n",
       "3     min                0.0                1.0                1.0       1.0   \n",
       "4     max                6.0               24.0              174.0       1.0   \n",
       "\n",
       "            zip_code         travel_time  \n",
       "0                100                 100  \n",
       "1  27897.90740740741               579.6  \n",
       "2   3308.26571603138  251.79501042063418  \n",
       "3                                  133.0  \n",
       "4              39316              1264.0  "
      ]
     },
     "execution_count": 459,
     "metadata": {},
     "output_type": "execute_result"
    }
   ],
   "source": [
    "dataset.describe().toPandas()\n"
   ]
  },
  {
   "cell_type": "code",
   "execution_count": 460,
   "metadata": {},
   "outputs": [
    {
     "name": "stdout",
     "output_type": "stream",
     "text": [
      "+--------+-------------+----------------+---------+--------+---------------+-----------+\n",
      "|ageRange|idunplug_base|idunplug_station|user_type|zip_code|unplug_hourTime|travel_time|\n",
      "+--------+-------------+----------------+---------+--------+---------------+-----------+\n",
      "|       0|            0|               0|        0|       0|              0|          0|\n",
      "+--------+-------------+----------------+---------+--------+---------------+-----------+\n",
      "\n"
     ]
    }
   ],
   "source": [
    "from pyspark.sql.functions import isnull, when, count, col\n",
    "dataset.select([count(when(isnull(c), c)).alias(c) for c in dataset.columns]).show()"
   ]
  },
  {
   "cell_type": "code",
   "execution_count": 461,
   "metadata": {},
   "outputs": [],
   "source": [
    "from pyspark.ml.feature import StringIndexer\n",
    "dataset = StringIndexer(\n",
    "    inputCol='zip_code', \n",
    "    outputCol='CP', \n",
    "    handleInvalid='keep').fit(dataset).transform(dataset)\n",
    "dataset.withColumn(\"datetype\",\n",
    "    to_date(col('unplug_hourTime'),\"yyyy-MM-dd\"))\n",
    "dataset=dataset.select(\"*\", month('unplug_hourTime').alias('month'))"
   ]
  },
  {
   "cell_type": "code",
   "execution_count": 463,
   "metadata": {
    "scrolled": true
   },
   "outputs": [
    {
     "name": "stdout",
     "output_type": "stream",
     "text": [
      "+--------+-------------+----------------+---------+--------+-------------------+-----------+----+-----+\n",
      "|ageRange|idunplug_base|idunplug_station|user_type|zip_code|    unplug_hourTime|travel_time|  CP|month|\n",
      "+--------+-------------+----------------+---------+--------+-------------------+-----------+----+-----+\n",
      "|     0.0|          8.0|            90.0|      1.0|        |2019-06-01 00:00:00|      219.0| 0.0|    6|\n",
      "|     4.0|         19.0|            71.0|      1.0|   28039|2019-06-01 00:00:00|      359.0|22.0|    6|\n",
      "|     4.0|          7.0|            39.0|      1.0|   28013|2019-06-01 00:00:00|      375.0|16.0|    6|\n",
      "|     5.0|         21.0|            66.0|      1.0|   28009|2019-06-01 00:00:00|      264.0| 2.0|    6|\n",
      "|     4.0|         13.0|           152.0|      1.0|   28006|2019-06-01 00:00:00|      367.0| 3.0|    6|\n",
      "|     5.0|          4.0|            55.0|      1.0|   28907|2019-06-01 00:00:00|      174.0|28.0|    6|\n",
      "|     0.0|          6.0|           133.0|      1.0|        |2019-06-01 00:00:00|      308.0| 0.0|    6|\n",
      "|     4.0|          3.0|           153.0|      1.0|   28003|2019-06-01 00:00:00|      462.0| 7.0|    6|\n",
      "|     0.0|         14.0|            44.0|      1.0|        |2019-06-01 00:00:00|      482.0| 0.0|    6|\n",
      "|     4.0|         21.0|            85.0|      1.0|   28004|2019-06-01 00:00:00|      480.0| 8.0|    6|\n",
      "|     5.0|         18.0|            31.0|      1.0|   28007|2019-06-01 00:00:00|      546.0| 1.0|    6|\n",
      "|     0.0|         15.0|            38.0|      1.0|        |2019-06-01 00:00:00|      519.0| 0.0|    6|\n",
      "|     4.0|         17.0|           118.0|      1.0|   39316|2019-06-01 00:00:00|      374.0|30.0|    6|\n",
      "|     4.0|          9.0|            27.0|      1.0|   28012|2019-06-01 00:00:00|      188.0| 6.0|    6|\n",
      "|     4.0|         20.0|            90.0|      1.0|   28045|2019-06-01 00:00:00|      133.0| 4.0|    6|\n",
      "|     0.0|         21.0|           100.0|      1.0|        |2019-06-01 00:00:00|      514.0| 0.0|    6|\n",
      "|     4.0|          5.0|            67.0|      1.0|   28008|2019-06-01 00:00:00|      517.0|15.0|    6|\n",
      "|     4.0|          3.0|            67.0|      1.0|   28019|2019-06-01 00:00:00|      525.0|17.0|    6|\n",
      "|     0.0|          5.0|            63.0|      1.0|        |2019-06-01 00:00:00|      351.0| 0.0|    6|\n",
      "|     0.0|          7.0|            42.0|      1.0|        |2019-06-01 00:00:00|      483.0| 0.0|    6|\n",
      "+--------+-------------+----------------+---------+--------+-------------------+-----------+----+-----+\n",
      "only showing top 20 rows\n",
      "\n"
     ]
    }
   ],
   "source": [
    "dataset.show()\n"
   ]
  },
  {
   "cell_type": "code",
   "execution_count": 427,
   "metadata": {},
   "outputs": [
    {
     "data": {
      "text/html": [
       "<div>\n",
       "<style scoped>\n",
       "    .dataframe tbody tr th:only-of-type {\n",
       "        vertical-align: middle;\n",
       "    }\n",
       "\n",
       "    .dataframe tbody tr th {\n",
       "        vertical-align: top;\n",
       "    }\n",
       "\n",
       "    .dataframe thead th {\n",
       "        text-align: right;\n",
       "    }\n",
       "</style>\n",
       "<table border=\"1\" class=\"dataframe\">\n",
       "  <thead>\n",
       "    <tr style=\"text-align: right;\">\n",
       "      <th></th>\n",
       "      <th>summary</th>\n",
       "      <th>ageRange</th>\n",
       "      <th>idunplug_base</th>\n",
       "      <th>idunplug_station</th>\n",
       "      <th>user_type</th>\n",
       "      <th>zip_code</th>\n",
       "      <th>travel_time</th>\n",
       "      <th>CP</th>\n",
       "      <th>month</th>\n",
       "    </tr>\n",
       "  </thead>\n",
       "  <tbody>\n",
       "    <tr>\n",
       "      <th>0</th>\n",
       "      <td>count</td>\n",
       "      <td>100</td>\n",
       "      <td>100</td>\n",
       "      <td>100</td>\n",
       "      <td>100</td>\n",
       "      <td>100</td>\n",
       "      <td>100</td>\n",
       "      <td>100</td>\n",
       "      <td>100</td>\n",
       "    </tr>\n",
       "    <tr>\n",
       "      <th>1</th>\n",
       "      <td>mean</td>\n",
       "      <td>2.32</td>\n",
       "      <td>11.7</td>\n",
       "      <td>88.85</td>\n",
       "      <td>1.0</td>\n",
       "      <td>27897.90740740741</td>\n",
       "      <td>579.6</td>\n",
       "      <td>5.77</td>\n",
       "      <td>6.0</td>\n",
       "    </tr>\n",
       "    <tr>\n",
       "      <th>2</th>\n",
       "      <td>stddev</td>\n",
       "      <td>2.145608623126866</td>\n",
       "      <td>7.182329607158014</td>\n",
       "      <td>50.51499927264329</td>\n",
       "      <td>0.0</td>\n",
       "      <td>3308.26571603138</td>\n",
       "      <td>251.79501042063418</td>\n",
       "      <td>8.349505519744413</td>\n",
       "      <td>0.0</td>\n",
       "    </tr>\n",
       "    <tr>\n",
       "      <th>3</th>\n",
       "      <td>min</td>\n",
       "      <td>0.0</td>\n",
       "      <td>1.0</td>\n",
       "      <td>1.0</td>\n",
       "      <td>1.0</td>\n",
       "      <td></td>\n",
       "      <td>133.0</td>\n",
       "      <td>0.0</td>\n",
       "      <td>6</td>\n",
       "    </tr>\n",
       "    <tr>\n",
       "      <th>4</th>\n",
       "      <td>max</td>\n",
       "      <td>6.0</td>\n",
       "      <td>24.0</td>\n",
       "      <td>174.0</td>\n",
       "      <td>1.0</td>\n",
       "      <td>39316</td>\n",
       "      <td>1264.0</td>\n",
       "      <td>30.0</td>\n",
       "      <td>6</td>\n",
       "    </tr>\n",
       "  </tbody>\n",
       "</table>\n",
       "</div>"
      ],
      "text/plain": [
       "  summary           ageRange      idunplug_base   idunplug_station user_type  \\\n",
       "0   count                100                100                100       100   \n",
       "1    mean               2.32               11.7              88.85       1.0   \n",
       "2  stddev  2.145608623126866  7.182329607158014  50.51499927264329       0.0   \n",
       "3     min                0.0                1.0                1.0       1.0   \n",
       "4     max                6.0               24.0              174.0       1.0   \n",
       "\n",
       "            zip_code         travel_time                 CP month  \n",
       "0                100                 100                100   100  \n",
       "1  27897.90740740741               579.6               5.77   6.0  \n",
       "2   3308.26571603138  251.79501042063418  8.349505519744413   0.0  \n",
       "3                                  133.0                0.0     6  \n",
       "4              39316              1264.0               30.0     6  "
      ]
     },
     "execution_count": 427,
     "metadata": {},
     "output_type": "execute_result"
    }
   ],
   "source": [
    "dataset.describe().toPandas()"
   ]
  },
  {
   "cell_type": "code",
   "execution_count": 464,
   "metadata": {},
   "outputs": [
    {
     "name": "stdout",
     "output_type": "stream",
     "text": [
      "+--------+-------------+----------------+---------+-----------+----+-----+\n",
      "|ageRange|idunplug_base|idunplug_station|user_type|travel_time|  CP|month|\n",
      "+--------+-------------+----------------+---------+-----------+----+-----+\n",
      "|     0.0|          8.0|            90.0|      1.0|      219.0| 0.0|    6|\n",
      "|     4.0|         19.0|            71.0|      1.0|      359.0|22.0|    6|\n",
      "|     4.0|          7.0|            39.0|      1.0|      375.0|16.0|    6|\n",
      "|     5.0|         21.0|            66.0|      1.0|      264.0| 2.0|    6|\n",
      "|     4.0|         13.0|           152.0|      1.0|      367.0| 3.0|    6|\n",
      "|     5.0|          4.0|            55.0|      1.0|      174.0|28.0|    6|\n",
      "|     0.0|          6.0|           133.0|      1.0|      308.0| 0.0|    6|\n",
      "|     4.0|          3.0|           153.0|      1.0|      462.0| 7.0|    6|\n",
      "|     0.0|         14.0|            44.0|      1.0|      482.0| 0.0|    6|\n",
      "|     4.0|         21.0|            85.0|      1.0|      480.0| 8.0|    6|\n",
      "|     5.0|         18.0|            31.0|      1.0|      546.0| 1.0|    6|\n",
      "|     0.0|         15.0|            38.0|      1.0|      519.0| 0.0|    6|\n",
      "|     4.0|         17.0|           118.0|      1.0|      374.0|30.0|    6|\n",
      "|     4.0|          9.0|            27.0|      1.0|      188.0| 6.0|    6|\n",
      "|     4.0|         20.0|            90.0|      1.0|      133.0| 4.0|    6|\n",
      "|     0.0|         21.0|           100.0|      1.0|      514.0| 0.0|    6|\n",
      "|     4.0|          5.0|            67.0|      1.0|      517.0|15.0|    6|\n",
      "|     4.0|          3.0|            67.0|      1.0|      525.0|17.0|    6|\n",
      "|     0.0|          5.0|            63.0|      1.0|      351.0| 0.0|    6|\n",
      "|     0.0|          7.0|            42.0|      1.0|      483.0| 0.0|    6|\n",
      "+--------+-------------+----------------+---------+-----------+----+-----+\n",
      "only showing top 20 rows\n",
      "\n"
     ]
    }
   ],
   "source": [
    "# Drop unnecessary columns\n",
    "dataset = dataset.drop('zip_code')\n",
    "dataset = dataset.drop('unplug_hourTime')\n",
    "dataset.show()"
   ]
  },
  {
   "cell_type": "code",
   "execution_count": 465,
   "metadata": {},
   "outputs": [],
   "source": [
    "# Assemble all the features with VectorAssembler\n",
    "required_features = ['idunplug_base',\n",
    " 'idunplug_station',\n",
    " 'user_type',\n",
    " 'travel_time','month','CP']\n",
    "from pyspark.ml.feature import VectorAssembler\n",
    "assembler = VectorAssembler(inputCols=required_features, outputCol='features')\n",
    "transformed_data = assembler.transform(dataset)"
   ]
  },
  {
   "cell_type": "code",
   "execution_count": 466,
   "metadata": {},
   "outputs": [
    {
     "data": {
      "text/plain": [
       "DataFrame[summary: string, ageRange: string, idunplug_base: string, idunplug_station: string, user_type: string, travel_time: string, CP: string, month: string]"
      ]
     },
     "execution_count": 466,
     "metadata": {},
     "output_type": "execute_result"
    }
   ],
   "source": [
    "transformed_data.describe()\n"
   ]
  },
  {
   "cell_type": "code",
   "execution_count": 468,
   "metadata": {},
   "outputs": [],
   "source": [
    "(training_data, test_data) = transformed_data.randomSplit([0.8,0.2])"
   ]
  },
  {
   "cell_type": "code",
   "execution_count": 469,
   "metadata": {},
   "outputs": [
    {
     "data": {
      "text/plain": [
       "DataFrame[ageRange: float, idunplug_base: float, idunplug_station: float, user_type: float, travel_time: float, CP: double, month: int, features: vector]"
      ]
     },
     "execution_count": 469,
     "metadata": {},
     "output_type": "execute_result"
    }
   ],
   "source": [
    "from pyspark.ml.classification import RandomForestClassifier\n",
    "rf = RandomForestClassifier(labelCol='ageRange', \n",
    "                            featuresCol='features',\n",
    "                            maxDepth=5)"
   ]
  },
  {
   "cell_type": "code",
   "execution_count": 471,
   "metadata": {},
   "outputs": [],
   "source": [
    "model = rf.fit(training_data)\n"
   ]
  },
  {
   "cell_type": "code",
   "execution_count": 472,
   "metadata": {},
   "outputs": [],
   "source": [
    "predictions = model.transform(test_data)"
   ]
  },
  {
   "cell_type": "code",
   "execution_count": 473,
   "metadata": {},
   "outputs": [],
   "source": [
    "# Evaluate our model\n",
    "from pyspark.ml.evaluation import MulticlassClassificationEvaluator\n",
    "evaluator = MulticlassClassificationEvaluator(\n",
    "    labelCol='ageRange', \n",
    "    predictionCol='prediction', \n",
    "    metricName='accuracy')"
   ]
  },
  {
   "cell_type": "code",
   "execution_count": 474,
   "metadata": {},
   "outputs": [
    {
     "name": "stdout",
     "output_type": "stream",
     "text": [
      "Test Accuracy =  0.7368421052631579\n"
     ]
    }
   ],
   "source": [
    "accuracy = evaluator.evaluate(predictions)\n",
    "print('Test Accuracy = ', accuracy)"
   ]
  },
  {
   "cell_type": "markdown",
   "metadata": {},
   "source": [
    "### Como se puede observar, la precisión es bastante alta, luego aunque no se sacan resultados concluyentes para predecir el tiempo de viaje, si que se puede predecir con alta fiabilidad la edad del usuario según el uso que realice."
   ]
  }
 ],
 "metadata": {
  "kernelspec": {
   "display_name": "Python 3",
   "language": "python",
   "name": "python3"
  },
  "language_info": {
   "codemirror_mode": {
    "name": "ipython",
    "version": 3
   },
   "file_extension": ".py",
   "mimetype": "text/x-python",
   "name": "python",
   "nbconvert_exporter": "python",
   "pygments_lexer": "ipython3",
   "version": "3.8.10"
  }
 },
 "nbformat": 4,
 "nbformat_minor": 5
}
